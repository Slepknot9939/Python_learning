{
 "cells": [
  {
   "cell_type": "markdown",
   "id": "347fb8aa",
   "metadata": {},
   "source": [
    "# List Comprehensive"
   ]
  },
  {
   "cell_type": "markdown",
   "id": "3decba33",
   "metadata": {},
   "source": [
    "#### Syntax : [Expression for item in interable ]"
   ]
  },
  {
   "cell_type": "code",
   "execution_count": 9,
   "id": "67d045b7",
   "metadata": {
    "ExecuteTime": {
     "end_time": "2022-01-02T05:36:13.474515Z",
     "start_time": "2022-01-02T05:36:13.442515Z"
    }
   },
   "outputs": [
    {
     "data": {
      "text/plain": [
       "[0, 1, 2, 3, 4, 5, 6, 7, 8, 9]"
      ]
     },
     "execution_count": 9,
     "metadata": {},
     "output_type": "execute_result"
    }
   ],
   "source": [
    "[x for x in range(10)]"
   ]
  },
  {
   "cell_type": "markdown",
   "id": "72d92938",
   "metadata": {},
   "source": [
    "#### Syntax for Conditions\n",
    "Syntax for (Single If) :-[expression for item in iterable if condition] <br>\n",
    "Syntax for (IF ELSE) :- [expression if condition else statement  for item in iterable]"
   ]
  },
  {
   "cell_type": "code",
   "execution_count": 11,
   "id": "10dcda4c",
   "metadata": {
    "ExecuteTime": {
     "end_time": "2022-01-02T05:45:44.649141Z",
     "start_time": "2022-01-02T05:45:44.601138Z"
    }
   },
   "outputs": [
    {
     "data": {
      "text/plain": [
       "[2, 3, 3, 4, 5, 6, 7, 8, 9]"
      ]
     },
     "execution_count": 11,
     "metadata": {},
     "output_type": "execute_result"
    }
   ],
   "source": [
    "a=[x if x>2 else x+1 for x in range(1,10)]\n",
    "a"
   ]
  },
  {
   "cell_type": "code",
   "execution_count": 14,
   "id": "95ad02dc",
   "metadata": {
    "ExecuteTime": {
     "end_time": "2022-01-02T05:47:58.757505Z",
     "start_time": "2022-01-02T05:47:58.733498Z"
    }
   },
   "outputs": [
    {
     "data": {
      "text/plain": [
       "[2, 4, 6, 8, 10, 12, 14, 16, 18]"
      ]
     },
     "execution_count": 14,
     "metadata": {},
     "output_type": "execute_result"
    }
   ],
   "source": [
    "a=[x  for x in range(1,20) if x%2==0]\n",
    "a"
   ]
  },
  {
   "cell_type": "code",
   "execution_count": 2,
   "id": "f501e468",
   "metadata": {
    "ExecuteTime": {
     "end_time": "2022-01-03T14:24:33.897814Z",
     "start_time": "2022-01-03T14:24:33.857813Z"
    }
   },
   "outputs": [
    {
     "data": {
      "text/plain": [
       "[0, None, 2, None, 4, None, 6, None, 8, None]"
      ]
     },
     "execution_count": 2,
     "metadata": {},
     "output_type": "execute_result"
    }
   ],
   "source": [
    "l=[]\n",
    "a=[x if x%2==0 else l.append(x) for x in range(10)]\n",
    "a"
   ]
  },
  {
   "cell_type": "markdown",
   "id": "68c8bf70",
   "metadata": {},
   "source": [
    "# Dictionary Comprehension"
   ]
  },
  {
   "cell_type": "code",
   "execution_count": 5,
   "id": "61541fec",
   "metadata": {
    "ExecuteTime": {
     "end_time": "2022-01-03T16:23:50.695314Z",
     "start_time": "2022-01-03T16:23:50.671311Z"
    }
   },
   "outputs": [],
   "source": [
    "dict1 = { i:f'item {i}' for i in range(0,10)}"
   ]
  },
  {
   "cell_type": "code",
   "execution_count": 6,
   "id": "cf230f29",
   "metadata": {
    "ExecuteTime": {
     "end_time": "2022-01-03T16:23:51.175324Z",
     "start_time": "2022-01-03T16:23:51.151321Z"
    }
   },
   "outputs": [
    {
     "data": {
      "text/plain": [
       "{0: 'item 0',\n",
       " 1: 'item 1',\n",
       " 2: 'item 2',\n",
       " 3: 'item 3',\n",
       " 4: 'item 4',\n",
       " 5: 'item 5',\n",
       " 6: 'item 6',\n",
       " 7: 'item 7',\n",
       " 8: 'item 8',\n",
       " 9: 'item 9'}"
      ]
     },
     "execution_count": 6,
     "metadata": {},
     "output_type": "execute_result"
    }
   ],
   "source": [
    "dict1"
   ]
  },
  {
   "cell_type": "code",
   "execution_count": 13,
   "id": "a5ea9a96",
   "metadata": {
    "ExecuteTime": {
     "end_time": "2022-01-03T16:26:36.557871Z",
     "start_time": "2022-01-03T16:26:36.525865Z"
    }
   },
   "outputs": [
    {
     "data": {
      "text/plain": [
       "{1: 'item1',\n",
       " 2: 'item2',\n",
       " 3: 'item3',\n",
       " 4: 'item4',\n",
       " 5: 'item5',\n",
       " 6: 'item6',\n",
       " 7: 'item7',\n",
       " 8: 'item8',\n",
       " 9: 'item9'}"
      ]
     },
     "execution_count": 13,
     "metadata": {},
     "output_type": "execute_result"
    }
   ],
   "source": [
    "dict2={i:f'item{i}' for i in range (1,10)}\n",
    "dict2"
   ]
  },
  {
   "cell_type": "code",
   "execution_count": 16,
   "id": "28d87995",
   "metadata": {
    "ExecuteTime": {
     "end_time": "2022-01-03T16:30:37.887235Z",
     "start_time": "2022-01-03T16:30:37.855228Z"
    }
   },
   "outputs": [
    {
     "data": {
      "text/plain": [
       "[0, 10, 20, 30, 40, 50, 60, 70, 80, 90]"
      ]
     },
     "execution_count": 16,
     "metadata": {},
     "output_type": "execute_result"
    }
   ],
   "source": [
    "num=[1,2,3,4]\n",
    "ls=[i*10 for i in range(0,10)]\n",
    "ls"
   ]
  },
  {
   "cell_type": "code",
   "execution_count": 20,
   "id": "503d9a50",
   "metadata": {
    "ExecuteTime": {
     "end_time": "2022-01-03T16:33:00.991157Z",
     "start_time": "2022-01-03T16:33:00.967153Z"
    }
   },
   "outputs": [
    {
     "data": {
      "text/plain": [
       "['SANDEEP', 'CHOMI']"
      ]
     },
     "execution_count": 20,
     "metadata": {},
     "output_type": "execute_result"
    }
   ],
   "source": [
    "a=['sandeep','chomi']\n",
    "ls=[i.upper() for  i in a]\n",
    "ls"
   ]
  },
  {
   "cell_type": "code",
   "execution_count": 21,
   "id": "d995e145",
   "metadata": {
    "ExecuteTime": {
     "end_time": "2022-01-03T16:35:19.092557Z",
     "start_time": "2022-01-03T16:35:19.060554Z"
    }
   },
   "outputs": [
    {
     "data": {
      "text/plain": [
       "['sandeep', 'chomi']"
      ]
     },
     "execution_count": 21,
     "metadata": {},
     "output_type": "execute_result"
    }
   ],
   "source": [
    "a=['SANDEEP','CHOMI']\n",
    "LS=[i.lower() for i in a]\n",
    "LS"
   ]
  },
  {
   "cell_type": "code",
   "execution_count": 25,
   "id": "f92d8efa",
   "metadata": {
    "ExecuteTime": {
     "end_time": "2022-01-03T16:38:25.450158Z",
     "start_time": "2022-01-03T16:38:25.426157Z"
    }
   },
   "outputs": [
    {
     "data": {
      "text/plain": [
       "['3', '2', '4', '5', '4', '6', '5', '7', '5']"
      ]
     },
     "execution_count": 25,
     "metadata": {},
     "output_type": "execute_result"
    }
   ],
   "source": [
    "a='asdsacfds32454y6575'\n",
    "ls=[i for i in a if i.isdigit()]\n",
    "ls"
   ]
  },
  {
   "cell_type": "code",
   "execution_count": 30,
   "id": "dd2d2c2d",
   "metadata": {
    "ExecuteTime": {
     "end_time": "2022-01-03T16:45:01.756851Z",
     "start_time": "2022-01-03T16:45:01.732843Z"
    }
   },
   "outputs": [
    {
     "data": {
      "text/plain": [
       "['d',\n",
       " 's',\n",
       " 'c',\n",
       " 'f',\n",
       " 'd',\n",
       " 's',\n",
       " 'v',\n",
       " 'f',\n",
       " 'd',\n",
       " 'l',\n",
       " 'k',\n",
       " 'b',\n",
       " 'n',\n",
       " 't',\n",
       " 'r',\n",
       " 'i',\n",
       " 'u',\n",
       " 'g',\n",
       " 'e',\n",
       " 'r',\n",
       " 'k',\n",
       " 'l',\n",
       " 'n',\n",
       " 'g',\n",
       " '3',\n",
       " '4',\n",
       " '8',\n",
       " '7',\n",
       " '3',\n",
       " '4',\n",
       " '6',\n",
       " 't',\n",
       " '7',\n",
       " '6',\n",
       " '3',\n",
       " '4',\n",
       " '8',\n",
       " '6',\n",
       " '4',\n",
       " '3',\n",
       " '8']"
      ]
     },
     "execution_count": 30,
     "metadata": {},
     "output_type": "execute_result"
    }
   ],
   "source": [
    "a='dscfdsvfdlkbntriugerklng3487346t763486438'\n",
    "ls=[i for i in a if i.split(' = ')[0]]\n",
    "ls"
   ]
  },
  {
   "cell_type": "code",
   "execution_count": 32,
   "id": "7da086f4",
   "metadata": {
    "ExecuteTime": {
     "end_time": "2022-01-03T16:50:36.445136Z",
     "start_time": "2022-01-03T16:50:36.421135Z"
    }
   },
   "outputs": [
    {
     "data": {
      "text/plain": [
       "[1, 4, 9, 16, 25, 36, 49, 64, 81, 100]"
      ]
     },
     "execution_count": 32,
     "metadata": {},
     "output_type": "execute_result"
    }
   ],
   "source": [
    "def square(x):\n",
    "    return x*x\n",
    "\n",
    "ls=[square(x) for x in range(1,11)]\n",
    "ls"
   ]
  },
  {
   "cell_type": "code",
   "execution_count": 33,
   "id": "7d09823d",
   "metadata": {
    "ExecuteTime": {
     "end_time": "2022-01-03T16:55:56.533807Z",
     "start_time": "2022-01-03T16:55:56.501801Z"
    }
   },
   "outputs": [
    {
     "data": {
      "text/plain": [
       "[3, 5, 7, 4, 6, 8, 5, 7, 9]"
      ]
     },
     "execution_count": 33,
     "metadata": {},
     "output_type": "execute_result"
    }
   ],
   "source": [
    "a=[1,2,3]\n",
    "b=[2,4,6]\n",
    "\n",
    "ls=[x+y for x in a for y in b ]\n",
    "ls"
   ]
  },
  {
   "cell_type": "markdown",
   "id": "2571022d",
   "metadata": {},
   "source": [
    "# List Comprehension is Perfect substitute for MAP(), FILTER(), REDUCE() Function"
   ]
  },
  {
   "cell_type": "code",
   "execution_count": 34,
   "id": "86699f6c",
   "metadata": {
    "ExecuteTime": {
     "end_time": "2022-01-03T16:58:44.916174Z",
     "start_time": "2022-01-03T16:58:44.804162Z"
    }
   },
   "outputs": [
    {
     "name": "stdout",
     "output_type": "stream",
     "text": [
      "[1, 2, 4]\n"
     ]
    }
   ],
   "source": [
    "num = [1.2, 2.3, 4.5]\n",
    "\n",
    "# Using int() Function \n",
    "ls = list(map(int, num))\n",
    "print(ls)"
   ]
  },
  {
   "cell_type": "code",
   "execution_count": null,
   "id": "1a393a28",
   "metadata": {},
   "outputs": [],
   "source": []
  }
 ],
 "metadata": {
  "kernelspec": {
   "display_name": "Python 3 (ipykernel)",
   "language": "python",
   "name": "python3"
  },
  "language_info": {
   "codemirror_mode": {
    "name": "ipython",
    "version": 3
   },
   "file_extension": ".py",
   "mimetype": "text/x-python",
   "name": "python",
   "nbconvert_exporter": "python",
   "pygments_lexer": "ipython3",
   "version": "3.9.7"
  },
  "toc": {
   "base_numbering": 1,
   "nav_menu": {},
   "number_sections": true,
   "sideBar": true,
   "skip_h1_title": false,
   "title_cell": "Table of Contents",
   "title_sidebar": "Contents",
   "toc_cell": false,
   "toc_position": {},
   "toc_section_display": true,
   "toc_window_display": false
  },
  "varInspector": {
   "cols": {
    "lenName": 16,
    "lenType": 16,
    "lenVar": 40
   },
   "kernels_config": {
    "python": {
     "delete_cmd_postfix": "",
     "delete_cmd_prefix": "del ",
     "library": "var_list.py",
     "varRefreshCmd": "print(var_dic_list())"
    },
    "r": {
     "delete_cmd_postfix": ") ",
     "delete_cmd_prefix": "rm(",
     "library": "var_list.r",
     "varRefreshCmd": "cat(var_dic_list()) "
    }
   },
   "types_to_exclude": [
    "module",
    "function",
    "builtin_function_or_method",
    "instance",
    "_Feature"
   ],
   "window_display": false
  }
 },
 "nbformat": 4,
 "nbformat_minor": 5
}
