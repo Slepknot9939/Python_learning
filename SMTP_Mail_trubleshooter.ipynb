{
 "cells": [
  {
   "cell_type": "code",
   "execution_count": 4,
   "id": "6c820d79",
   "metadata": {
    "ExecuteTime": {
     "end_time": "2022-01-06T09:00:18.216984Z",
     "start_time": "2022-01-06T09:00:18.198987Z"
    }
   },
   "outputs": [],
   "source": [
    "def notificatioEmail(e):\n",
    "    From = 'dumy.notification.email@gmail.com'\n",
    "    Password = 'hhdmjkljhgvwexto'\n",
    "    To = ['khandelwalsandeep119@gmail.com','sandeep9975674378@gmail.com','sandymarcus@live.com']\n",
    "    Subject = 'Execution Failed!!'\n",
    "    body = f'EXECUTION GOT FAILED DUE TO SOME ERROR and error is \\n Error:{e}'\n",
    "\n",
    "    for toEmail in To:    \n",
    "        msg = EmailMessage()\n",
    "        msg.set_content(body)\n",
    "        msg['subject'] = Subject\n",
    "        msg['to'] = toEmail\n",
    "        msg['from'] = From\n",
    "\n",
    "        # Creating Server\n",
    "        server = smtplib.SMTP('smtp.gmail.com',587)\n",
    "        #create connection using tls(transport label security)\n",
    "        server.starttls()\n",
    "        server.login(From,Password)\n",
    "        server.send_message(msg)\n",
    "        server.quit()\n",
    "        print(f'email sent to {toEmail}')"
   ]
  },
  {
   "cell_type": "code",
   "execution_count": null,
   "id": "70694c34",
   "metadata": {},
   "outputs": [],
   "source": []
  }
 ],
 "metadata": {
  "kernelspec": {
   "display_name": "Python 3 (ipykernel)",
   "language": "python",
   "name": "python3"
  },
  "language_info": {
   "codemirror_mode": {
    "name": "ipython",
    "version": 3
   },
   "file_extension": ".py",
   "mimetype": "text/x-python",
   "name": "python",
   "nbconvert_exporter": "python",
   "pygments_lexer": "ipython3",
   "version": "3.9.7"
  },
  "toc": {
   "base_numbering": 1,
   "nav_menu": {},
   "number_sections": true,
   "sideBar": true,
   "skip_h1_title": false,
   "title_cell": "Table of Contents",
   "title_sidebar": "Contents",
   "toc_cell": false,
   "toc_position": {},
   "toc_section_display": true,
   "toc_window_display": false
  },
  "varInspector": {
   "cols": {
    "lenName": 16,
    "lenType": 16,
    "lenVar": 40
   },
   "kernels_config": {
    "python": {
     "delete_cmd_postfix": "",
     "delete_cmd_prefix": "del ",
     "library": "var_list.py",
     "varRefreshCmd": "print(var_dic_list())"
    },
    "r": {
     "delete_cmd_postfix": ") ",
     "delete_cmd_prefix": "rm(",
     "library": "var_list.r",
     "varRefreshCmd": "cat(var_dic_list()) "
    }
   },
   "types_to_exclude": [
    "module",
    "function",
    "builtin_function_or_method",
    "instance",
    "_Feature"
   ],
   "window_display": false
  }
 },
 "nbformat": 4,
 "nbformat_minor": 5
}
