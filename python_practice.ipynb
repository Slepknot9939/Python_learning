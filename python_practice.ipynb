{
 "cells": [
  {
   "cell_type": "markdown",
   "id": "2f8f541b",
   "metadata": {},
   "source": [
    "* Write a Python program to print the following string in a specific format"
   ]
  },
  {
   "cell_type": "code",
   "execution_count": 21,
   "id": "b889085a",
   "metadata": {
    "ExecuteTime": {
     "end_time": "2022-01-28T07:48:57.165785Z",
     "start_time": "2022-01-28T07:48:57.146755Z"
    }
   },
   "outputs": [
    {
     "name": "stdout",
     "output_type": "stream",
     "text": [
      "Twinkle, twinkle, little star,\n",
      "\t How I wonder what you are!   \n",
      "\t\t Up above the world so high, \n",
      "\t\t Like a diamond in the sky. \n",
      "Twinkle, twinkle, little star, \n",
      "\tHow I wonder what you are\n"
     ]
    }
   ],
   "source": [
    "print(\"Twinkle, twinkle, little star,\\n\\t How I wonder what you are!   \\n\\t\\t Up above the world so high, \\n\\t\\t Like a diamond in the sky. \\nTwinkle, twinkle, little star, \\n\\tHow I wonder what you are\" \n",
    ")"
   ]
  },
  {
   "cell_type": "markdown",
   "id": "3459b147",
   "metadata": {
    "ExecuteTime": {
     "end_time": "2022-01-28T07:33:31.190826Z",
     "start_time": "2022-01-28T07:33:31.163774Z"
    }
   },
   "source": [
    "* Write a Python program to get the Python version you are using"
   ]
  },
  {
   "cell_type": "code",
   "execution_count": 26,
   "id": "5762d7d7",
   "metadata": {
    "ExecuteTime": {
     "end_time": "2022-01-28T07:51:35.919689Z",
     "start_time": "2022-01-28T07:51:35.843677Z"
    }
   },
   "outputs": [
    {
     "data": {
      "text/plain": [
       "'3.9.7'"
      ]
     },
     "execution_count": 26,
     "metadata": {},
     "output_type": "execute_result"
    }
   ],
   "source": [
    "from platform import python_version\n",
    "python_version()"
   ]
  },
  {
   "cell_type": "markdown",
   "id": "9a513c9f",
   "metadata": {},
   "source": [
    "* Write a Python program to display the current date and time"
   ]
  },
  {
   "cell_type": "code",
   "execution_count": 39,
   "id": "1477defd",
   "metadata": {
    "ExecuteTime": {
     "end_time": "2022-01-28T08:00:23.860847Z",
     "start_time": "2022-01-28T08:00:23.839791Z"
    }
   },
   "outputs": [
    {
     "name": "stdout",
     "output_type": "stream",
     "text": [
      "Todays date : 2022-01-28\n",
      "Todays current time : 13:30:23.847843\n"
     ]
    }
   ],
   "source": [
    "from datetime import datetime\n",
    "print(\"Todays date :\",datetime.date(datetime.now()))\n",
    "print(\"Todays current time :\", datetime.time(datetime.now()))"
   ]
  },
  {
   "cell_type": "markdown",
   "id": "93f8550a",
   "metadata": {},
   "source": [
    "* Write a Python program which accepts the radius of a circle from the user and compute the area."
   ]
  },
  {
   "cell_type": "code",
   "execution_count": 54,
   "id": "add553ed",
   "metadata": {
    "ExecuteTime": {
     "end_time": "2022-01-28T08:14:53.030794Z",
     "start_time": "2022-01-28T08:14:50.288453Z"
    }
   },
   "outputs": [
    {
     "name": "stdout",
     "output_type": "stream",
     "text": [
      "Enter the radius : 1.1\n",
      "Area of Circle : 3.7994000000000008\n"
     ]
    }
   ],
   "source": [
    "r=float(input(\"Enter the radius : \"))\n",
    "Area_circle=(3.14 * (r * r))\n",
    "print(\"Area of Circle :\", Area_circle)"
   ]
  },
  {
   "cell_type": "markdown",
   "id": "0d7e1008",
   "metadata": {},
   "source": [
    "* Write a Python program which accepts the user's first and last name and print them in reverse order with a space between them"
   ]
  },
  {
   "cell_type": "code",
   "execution_count": 59,
   "id": "85ef12e8",
   "metadata": {
    "ExecuteTime": {
     "end_time": "2022-01-28T08:25:24.004399Z",
     "start_time": "2022-01-28T08:25:19.124713Z"
    }
   },
   "outputs": [
    {
     "name": "stdout",
     "output_type": "stream",
     "text": [
      "Enter the first name sandeep\n",
      "Enter the lsast name khandelwal\n",
      "Hello Mr/Ms. khandelwal sandeep\n"
     ]
    }
   ],
   "source": [
    "first=input(\"Enter the first name \")\n",
    "last=input(\"Enter the lsast name \")\n",
    "\n",
    "print(\"Hello Mr/Ms. \" + last + \" \" + first)"
   ]
  },
  {
   "cell_type": "markdown",
   "id": "00846e30",
   "metadata": {},
   "source": [
    "* Write a Python program which accepts a sequence of comma-separated numbers from user and generate a list and a tuple with those numbers."
   ]
  },
  {
   "cell_type": "code",
   "execution_count": 64,
   "id": "1e0eecfd",
   "metadata": {
    "ExecuteTime": {
     "end_time": "2022-01-28T08:35:50.182411Z",
     "start_time": "2022-01-28T08:35:46.636226Z"
    }
   },
   "outputs": [
    {
     "name": "stdout",
     "output_type": "stream",
     "text": [
      "Enter the Number 1,2,3,4\n",
      "list  ['1', '2', '3', '4']\n",
      "Tuple  ('1', '2', '3', '4')\n"
     ]
    }
   ],
   "source": [
    "s=input(\"Enter the Number \")\n",
    "list=s.split(\",\")\n",
    "tuple=tuple(list)\n",
    "\n",
    "print(\"list \",list)\n",
    "print(\"Tuple \",tuple)"
   ]
  },
  {
   "cell_type": "markdown",
   "id": "5047c482",
   "metadata": {},
   "source": [
    "* Write a Python program to accept a filename from the user and print the extension of that"
   ]
  },
  {
   "cell_type": "code",
   "execution_count": 70,
   "id": "497af339",
   "metadata": {
    "ExecuteTime": {
     "end_time": "2022-01-28T08:42:00.484866Z",
     "start_time": "2022-01-28T08:41:56.626542Z"
    }
   },
   "outputs": [
    {
     "name": "stdout",
     "output_type": "stream",
     "text": [
      "Enter the file name abc.java\n",
      "The File Extensive :  java\n"
     ]
    }
   ],
   "source": [
    "s=input(\"Enter the file name \")\n",
    "file_name=s.split(\".\")\n",
    "print(\"The File Extensive : \",file_name[-1])"
   ]
  },
  {
   "cell_type": "markdown",
   "id": "401e4004",
   "metadata": {},
   "source": [
    "* Write a Python program to display the first and last colors from the following list."
   ]
  },
  {
   "cell_type": "code",
   "execution_count": 71,
   "id": "5f3b4853",
   "metadata": {
    "ExecuteTime": {
     "end_time": "2022-01-28T08:50:51.538844Z",
     "start_time": "2022-01-28T08:50:51.405810Z"
    }
   },
   "outputs": [
    {
     "name": "stdout",
     "output_type": "stream",
     "text": [
      "Red Black\n"
     ]
    }
   ],
   "source": [
    "color_list = [\"Red\",\"Green\",\"White\" ,\"Black\"]\n",
    "\n",
    "print(color_list[0],color_list[-1])"
   ]
  },
  {
   "cell_type": "markdown",
   "id": "ebf37336",
   "metadata": {
    "ExecuteTime": {
     "end_time": "2022-01-28T08:53:08.082375Z",
     "start_time": "2022-01-28T08:53:07.970344Z"
    }
   },
   "source": [
    "* Write a Python program to display the examination schedule. (extract the date from exam_st_date). "
   ]
  },
  {
   "cell_type": "code",
   "execution_count": 78,
   "id": "04ebf975",
   "metadata": {
    "ExecuteTime": {
     "end_time": "2022-01-28T08:59:30.034598Z",
     "start_time": "2022-01-28T08:59:30.019596Z"
    }
   },
   "outputs": [
    {
     "name": "stdout",
     "output_type": "stream",
     "text": [
      "The exam will start : 11 / 12 /2014\n"
     ]
    }
   ],
   "source": [
    "\n",
    "exam_st_date = (11, 12, 2014)\n",
    "\n",
    "print(\"The exam will start : %i / %i /%i\"%exam_st_date)"
   ]
  },
  {
   "cell_type": "code",
   "execution_count": null,
   "id": "27bd7a8d",
   "metadata": {},
   "outputs": [],
   "source": []
  }
 ],
 "metadata": {
  "kernelspec": {
   "display_name": "Python 3 (ipykernel)",
   "language": "python",
   "name": "python3"
  },
  "language_info": {
   "codemirror_mode": {
    "name": "ipython",
    "version": 3
   },
   "file_extension": ".py",
   "mimetype": "text/x-python",
   "name": "python",
   "nbconvert_exporter": "python",
   "pygments_lexer": "ipython3",
   "version": "3.9.7"
  },
  "toc": {
   "base_numbering": 1,
   "nav_menu": {},
   "number_sections": true,
   "sideBar": true,
   "skip_h1_title": false,
   "title_cell": "Table of Contents",
   "title_sidebar": "Contents",
   "toc_cell": false,
   "toc_position": {},
   "toc_section_display": true,
   "toc_window_display": false
  },
  "varInspector": {
   "cols": {
    "lenName": 16,
    "lenType": 16,
    "lenVar": 40
   },
   "kernels_config": {
    "python": {
     "delete_cmd_postfix": "",
     "delete_cmd_prefix": "del ",
     "library": "var_list.py",
     "varRefreshCmd": "print(var_dic_list())"
    },
    "r": {
     "delete_cmd_postfix": ") ",
     "delete_cmd_prefix": "rm(",
     "library": "var_list.r",
     "varRefreshCmd": "cat(var_dic_list()) "
    }
   },
   "types_to_exclude": [
    "module",
    "function",
    "builtin_function_or_method",
    "instance",
    "_Feature"
   ],
   "window_display": false
  }
 },
 "nbformat": 4,
 "nbformat_minor": 5
}
