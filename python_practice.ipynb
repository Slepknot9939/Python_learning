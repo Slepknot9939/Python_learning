{
 "cells": [
  {
   "cell_type": "markdown",
   "id": "d9a3b715",
   "metadata": {},
   "source": [
    "* Write a Python program to print the following string in a specific format"
   ]
  },
  {
   "cell_type": "code",
   "execution_count": 80,
   "id": "2998b7ae",
   "metadata": {
    "ExecuteTime": {
     "end_time": "2022-01-28T12:58:15.453061Z",
     "start_time": "2022-01-28T12:58:15.429056Z"
    }
   },
   "outputs": [
    {
     "name": "stdout",
     "output_type": "stream",
     "text": [
      "Twinkle, twinkle, little star,\n",
      "\t How I wonder what you are!   \n",
      "\t\t Up above the world so high, \n",
      "\t\t Like a diamond in the sky. \n",
      "Twinkle, twinkle, little star, \n",
      "\tHow I wonder what you are\n"
     ]
    }
   ],
   "source": [
    "print(\"Twinkle, twinkle, little star,\\n\\t How I wonder what you are!   \\n\\t\\t Up above the world so high, \\n\\t\\t Like a diamond in the sky. \\nTwinkle, twinkle, little star, \\n\\tHow I wonder what you are\" \n",
    ")"
   ]
  },
  {
   "cell_type": "markdown",
   "id": "b7851929",
   "metadata": {
    "ExecuteTime": {
     "end_time": "2022-01-28T07:33:31.190826Z",
     "start_time": "2022-01-28T07:33:31.163774Z"
    }
   },
   "source": [
    "* Write a Python program to get the Python version you are using"
   ]
  },
  {
   "cell_type": "code",
   "execution_count": 81,
   "id": "4cd7eb8f",
   "metadata": {
    "ExecuteTime": {
     "end_time": "2022-01-28T12:58:16.241000Z",
     "start_time": "2022-01-28T12:58:15.461062Z"
    }
   },
   "outputs": [
    {
     "data": {
      "text/plain": [
       "'3.9.7'"
      ]
     },
     "execution_count": 81,
     "metadata": {},
     "output_type": "execute_result"
    }
   ],
   "source": [
    "from platform import python_version\n",
    "python_version()"
   ]
  },
  {
   "cell_type": "markdown",
   "id": "8d0805a8",
   "metadata": {},
   "source": [
    "* Write a Python program to display the current date and time"
   ]
  },
  {
   "cell_type": "code",
   "execution_count": 82,
   "id": "940bb234",
   "metadata": {
    "ExecuteTime": {
     "end_time": "2022-01-28T12:58:16.433021Z",
     "start_time": "2022-01-28T12:58:16.249009Z"
    }
   },
   "outputs": [
    {
     "name": "stdout",
     "output_type": "stream",
     "text": [
      "Todays date : 2022-01-28\n",
      "Todays current time : 18:28:16.329009\n"
     ]
    }
   ],
   "source": [
    "from datetime import datetime\n",
    "print(\"Todays date :\",datetime.date(datetime.now()))\n",
    "print(\"Todays current time :\", datetime.time(datetime.now()))"
   ]
  },
  {
   "cell_type": "markdown",
   "id": "bcb06b2c",
   "metadata": {},
   "source": [
    "* Write a Python program which accepts the radius of a circle from the user and compute the area."
   ]
  },
  {
   "cell_type": "code",
   "execution_count": 83,
   "id": "f1033d18",
   "metadata": {
    "ExecuteTime": {
     "end_time": "2022-01-28T12:58:36.271990Z",
     "start_time": "2022-01-28T12:58:16.505029Z"
    }
   },
   "outputs": [
    {
     "name": "stdout",
     "output_type": "stream",
     "text": [
      "Enter the radius : 1.1\n",
      "Area of Circle : 3.7994000000000008\n"
     ]
    }
   ],
   "source": [
    "r=float(input(\"Enter the radius : \"))\n",
    "Area_circle=(3.14 * (r * r))\n",
    "print(\"Area of Circle :\", Area_circle)"
   ]
  },
  {
   "cell_type": "markdown",
   "id": "640e96ee",
   "metadata": {},
   "source": [
    "* Write a Python program which accepts the user's first and last name and print them in reverse order with a space between them"
   ]
  },
  {
   "cell_type": "code",
   "execution_count": 84,
   "id": "8c1114bd",
   "metadata": {
    "ExecuteTime": {
     "end_time": "2022-01-28T12:58:42.593813Z",
     "start_time": "2022-01-28T12:58:36.279991Z"
    }
   },
   "outputs": [
    {
     "name": "stdout",
     "output_type": "stream",
     "text": [
      "Enter the first name Sandy\n",
      "Enter the lsast name Marcus\n",
      "Hello Mr/Ms. Marcus Sandy\n"
     ]
    }
   ],
   "source": [
    "first=input(\"Enter the first name \")\n",
    "last=input(\"Enter the lsast name \")\n",
    "\n",
    "print(\"Hello Mr/Ms. \" + last + \" \" + first)"
   ]
  },
  {
   "cell_type": "markdown",
   "id": "61820ce1",
   "metadata": {},
   "source": [
    "* Write a Python program which accepts a sequence of comma-separated numbers from user and generate a list and a tuple with those numbers."
   ]
  },
  {
   "cell_type": "code",
   "execution_count": 97,
   "id": "1c5911d2",
   "metadata": {
    "ExecuteTime": {
     "end_time": "2022-01-28T13:04:35.611023Z",
     "start_time": "2022-01-28T13:04:32.648359Z"
    }
   },
   "outputs": [
    {
     "name": "stdout",
     "output_type": "stream",
     "text": [
      "Input some comma seprated numbers : 1,2,3\n",
      "List :  ['1', '2', '3']\n",
      "Tuple :  ('1', '2', '3', '4')\n"
     ]
    }
   ],
   "source": [
    "values = input(\"Input some comma seprated numbers : \")\n",
    "list = values.split(\",\")\n",
    "#tuple = tuple(list)\n",
    "print('List : ',list)\n",
    "print('Tuple : ',tuple)"
   ]
  },
  {
   "cell_type": "markdown",
   "id": "3aa31fdb",
   "metadata": {},
   "source": [
    "* Write a Python program to accept a filename from the user and print the extension of that"
   ]
  },
  {
   "cell_type": "code",
   "execution_count": 93,
   "id": "e2044551",
   "metadata": {
    "ExecuteTime": {
     "end_time": "2022-01-28T13:02:29.734273Z",
     "start_time": "2022-01-28T13:02:19.395509Z"
    }
   },
   "outputs": [
    {
     "name": "stdout",
     "output_type": "stream",
     "text": [
      "Enter the file name java.ipy\n",
      "The File Extensive :  ipy\n"
     ]
    }
   ],
   "source": [
    "san=input(\"Enter the file name \")\n",
    "file_name=san.split(\".\")\n",
    "print(\"The File Extensive : \",file_name[-1])"
   ]
  },
  {
   "cell_type": "markdown",
   "id": "be0b57b4",
   "metadata": {},
   "source": [
    "* Write a Python program to display the first and last colors from the following list."
   ]
  },
  {
   "cell_type": "code",
   "execution_count": 94,
   "id": "6cf16ed5",
   "metadata": {
    "ExecuteTime": {
     "end_time": "2022-01-28T13:02:33.214254Z",
     "start_time": "2022-01-28T13:02:33.190238Z"
    }
   },
   "outputs": [
    {
     "name": "stdout",
     "output_type": "stream",
     "text": [
      "Red Black\n"
     ]
    }
   ],
   "source": [
    "color_list = [\"Red\",\"Green\",\"White\" ,\"Black\"]\n",
    "\n",
    "print(color_list[0],color_list[-1])"
   ]
  },
  {
   "cell_type": "markdown",
   "id": "8da638fc",
   "metadata": {
    "ExecuteTime": {
     "end_time": "2022-01-28T08:53:08.082375Z",
     "start_time": "2022-01-28T08:53:07.970344Z"
    }
   },
   "source": [
    "* Write a Python program to display the examination schedule. (extract the date from exam_st_date). "
   ]
  },
  {
   "cell_type": "code",
   "execution_count": 95,
   "id": "c2840bae",
   "metadata": {
    "ExecuteTime": {
     "end_time": "2022-01-28T13:02:35.419270Z",
     "start_time": "2022-01-28T13:02:35.395270Z"
    }
   },
   "outputs": [
    {
     "name": "stdout",
     "output_type": "stream",
     "text": [
      "The exam will start : 11 / 12 /2014\n"
     ]
    }
   ],
   "source": [
    "\n",
    "exam_st_date = (11, 12, 2014)\n",
    "\n",
    "print(\"The exam will start : %i / %i /%i\"%exam_st_date)"
   ]
  },
  {
   "cell_type": "code",
   "execution_count": null,
   "id": "9db0641c",
   "metadata": {},
   "outputs": [],
   "source": []
  }
 ],
 "metadata": {
  "kernelspec": {
   "display_name": "Python 3 (ipykernel)",
   "language": "python",
   "name": "python3"
  },
  "language_info": {
   "codemirror_mode": {
    "name": "ipython",
    "version": 3
   },
   "file_extension": ".py",
   "mimetype": "text/x-python",
   "name": "python",
   "nbconvert_exporter": "python",
   "pygments_lexer": "ipython3",
   "version": "3.9.7"
  },
  "toc": {
   "base_numbering": 1,
   "nav_menu": {},
   "number_sections": true,
   "sideBar": true,
   "skip_h1_title": false,
   "title_cell": "Table of Contents",
   "title_sidebar": "Contents",
   "toc_cell": false,
   "toc_position": {},
   "toc_section_display": true,
   "toc_window_display": false
  },
  "varInspector": {
   "cols": {
    "lenName": 16,
    "lenType": 16,
    "lenVar": 40
   },
   "kernels_config": {
    "python": {
     "delete_cmd_postfix": "",
     "delete_cmd_prefix": "del ",
     "library": "var_list.py",
     "varRefreshCmd": "print(var_dic_list())"
    },
    "r": {
     "delete_cmd_postfix": ") ",
     "delete_cmd_prefix": "rm(",
     "library": "var_list.r",
     "varRefreshCmd": "cat(var_dic_list()) "
    }
   },
   "types_to_exclude": [
    "module",
    "function",
    "builtin_function_or_method",
    "instance",
    "_Feature"
   ],
   "window_display": false
  }
 },
 "nbformat": 4,
 "nbformat_minor": 5
}
