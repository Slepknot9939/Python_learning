{
 "cells": [
  {
   "cell_type": "markdown",
   "id": "d9a3b715",
   "metadata": {},
   "source": [
    "* Write a Python program to print the following string in a specific format"
   ]
  },
  {
   "cell_type": "code",
   "execution_count": 80,
   "id": "2998b7ae",
   "metadata": {
    "ExecuteTime": {
     "end_time": "2022-01-28T12:58:15.453061Z",
     "start_time": "2022-01-28T12:58:15.429056Z"
    }
   },
   "outputs": [
    {
     "name": "stdout",
     "output_type": "stream",
     "text": [
      "Twinkle, twinkle, little star,\n",
      "\t How I wonder what you are!   \n",
      "\t\t Up above the world so high, \n",
      "\t\t Like a diamond in the sky. \n",
      "Twinkle, twinkle, little star, \n",
      "\tHow I wonder what you are\n"
     ]
    }
   ],
   "source": [
    "print(\"Twinkle, twinkle, little star,\\n\\t How I wonder what you are!   \\n\\t\\t Up above the world so high, \\n\\t\\t Like a diamond in the sky. \\nTwinkle, twinkle, little star, \\n\\tHow I wonder what you are\" \n",
    ")"
   ]
  },
  {
   "cell_type": "markdown",
   "id": "b7851929",
   "metadata": {
    "ExecuteTime": {
     "end_time": "2022-01-28T07:33:31.190826Z",
     "start_time": "2022-01-28T07:33:31.163774Z"
    }
   },
   "source": [
    "* Write a Python program to get the Python version you are using"
   ]
  },
  {
   "cell_type": "code",
   "execution_count": 81,
   "id": "4cd7eb8f",
   "metadata": {
    "ExecuteTime": {
     "end_time": "2022-01-28T12:58:16.241000Z",
     "start_time": "2022-01-28T12:58:15.461062Z"
    }
   },
   "outputs": [
    {
     "data": {
      "text/plain": [
       "'3.9.7'"
      ]
     },
     "execution_count": 81,
     "metadata": {},
     "output_type": "execute_result"
    }
   ],
   "source": [
    "from platform import python_version\n",
    "python_version()"
   ]
  },
  {
   "cell_type": "markdown",
   "id": "8d0805a8",
   "metadata": {},
   "source": [
    "* Write a Python program to display the current date and time"
   ]
  },
  {
   "cell_type": "code",
   "execution_count": 82,
   "id": "940bb234",
   "metadata": {
    "ExecuteTime": {
     "end_time": "2022-01-28T12:58:16.433021Z",
     "start_time": "2022-01-28T12:58:16.249009Z"
    }
   },
   "outputs": [
    {
     "name": "stdout",
     "output_type": "stream",
     "text": [
      "Todays date : 2022-01-28\n",
      "Todays current time : 18:28:16.329009\n"
     ]
    }
   ],
   "source": [
    "from datetime import datetime\n",
    "print(\"Todays date :\",datetime.date(datetime.now()))\n",
    "print(\"Todays current time :\", datetime.time(datetime.now()))"
   ]
  },
  {
   "cell_type": "markdown",
   "id": "bcb06b2c",
   "metadata": {},
   "source": [
    "* Write a Python program which accepts the radius of a circle from the user and compute the area."
   ]
  },
  {
   "cell_type": "code",
   "execution_count": 83,
   "id": "f1033d18",
   "metadata": {
    "ExecuteTime": {
     "end_time": "2022-01-28T12:58:36.271990Z",
     "start_time": "2022-01-28T12:58:16.505029Z"
    }
   },
   "outputs": [
    {
     "name": "stdout",
     "output_type": "stream",
     "text": [
      "Enter the radius : 1.1\n",
      "Area of Circle : 3.7994000000000008\n"
     ]
    }
   ],
   "source": [
    "r=float(input(\"Enter the radius : \"))\n",
    "Area_circle=(3.14 * (r * r))\n",
    "print(\"Area of Circle :\", Area_circle)"
   ]
  },
  {
   "cell_type": "markdown",
   "id": "640e96ee",
   "metadata": {},
   "source": [
    "* Write a Python program which accepts the user's first and last name and print them in reverse order with a space between them"
   ]
  },
  {
   "cell_type": "code",
   "execution_count": 84,
   "id": "8c1114bd",
   "metadata": {
    "ExecuteTime": {
     "end_time": "2022-01-28T12:58:42.593813Z",
     "start_time": "2022-01-28T12:58:36.279991Z"
    }
   },
   "outputs": [
    {
     "name": "stdout",
     "output_type": "stream",
     "text": [
      "Enter the first name Sandy\n",
      "Enter the lsast name Marcus\n",
      "Hello Mr/Ms. Marcus Sandy\n"
     ]
    }
   ],
   "source": [
    "first=input(\"Enter the first name \")\n",
    "last=input(\"Enter the lsast name \")\n",
    "\n",
    "print(\"Hello Mr/Ms. \" + last + \" \" + first)"
   ]
  },
  {
   "cell_type": "markdown",
   "id": "61820ce1",
   "metadata": {},
   "source": [
    "* Write a Python program which accepts a sequence of comma-separated numbers from user and generate a list and a tuple with those numbers."
   ]
  },
  {
   "cell_type": "code",
   "execution_count": 97,
   "id": "1c5911d2",
   "metadata": {
    "ExecuteTime": {
     "end_time": "2022-01-28T13:04:35.611023Z",
     "start_time": "2022-01-28T13:04:32.648359Z"
    }
   },
   "outputs": [
    {
     "name": "stdout",
     "output_type": "stream",
     "text": [
      "Input some comma seprated numbers : 1,2,3\n",
      "List :  ['1', '2', '3']\n",
      "Tuple :  ('1', '2', '3', '4')\n"
     ]
    }
   ],
   "source": [
    "values = input(\"Input some comma seprated numbers : \")\n",
    "list = values.split(\",\")\n",
    "#tuple = tuple(list)\n",
    "print('List : ',list)\n",
    "print('Tuple : ',tuple)"
   ]
  },
  {
   "cell_type": "markdown",
   "id": "3aa31fdb",
   "metadata": {},
   "source": [
    "* Write a Python program to accept a filename from the user and print the extension of that"
   ]
  },
  {
   "cell_type": "code",
   "execution_count": 93,
   "id": "e2044551",
   "metadata": {
    "ExecuteTime": {
     "end_time": "2022-01-28T13:02:29.734273Z",
     "start_time": "2022-01-28T13:02:19.395509Z"
    }
   },
   "outputs": [
    {
     "name": "stdout",
     "output_type": "stream",
     "text": [
      "Enter the file name java.ipy\n",
      "The File Extensive :  ipy\n"
     ]
    }
   ],
   "source": [
    "san=input(\"Enter the file name \")\n",
    "file_name=san.split(\".\")\n",
    "print(\"The File Extensive : \",file_name[-1])"
   ]
  },
  {
   "cell_type": "markdown",
   "id": "be0b57b4",
   "metadata": {},
   "source": [
    "* Write a Python program to display the first and last colors from the following list."
   ]
  },
  {
   "cell_type": "code",
   "execution_count": 94,
   "id": "6cf16ed5",
   "metadata": {
    "ExecuteTime": {
     "end_time": "2022-01-28T13:02:33.214254Z",
     "start_time": "2022-01-28T13:02:33.190238Z"
    }
   },
   "outputs": [
    {
     "name": "stdout",
     "output_type": "stream",
     "text": [
      "Red Black\n"
     ]
    }
   ],
   "source": [
    "color_list = [\"Red\",\"Green\",\"White\" ,\"Black\"]\n",
    "\n",
    "print(color_list[0],color_list[-1])"
   ]
  },
  {
   "cell_type": "markdown",
   "id": "8da638fc",
   "metadata": {
    "ExecuteTime": {
     "end_time": "2022-01-28T08:53:08.082375Z",
     "start_time": "2022-01-28T08:53:07.970344Z"
    }
   },
   "source": [
    "* Write a Python program to display the examination schedule. (extract the date from exam_st_date). "
   ]
  },
  {
   "cell_type": "code",
   "execution_count": 95,
   "id": "c2840bae",
   "metadata": {
    "ExecuteTime": {
     "end_time": "2022-01-28T13:02:35.419270Z",
     "start_time": "2022-01-28T13:02:35.395270Z"
    }
   },
   "outputs": [
    {
     "name": "stdout",
     "output_type": "stream",
     "text": [
      "The exam will start : 11 / 12 /2014\n"
     ]
    }
   ],
   "source": [
    "\n",
    "exam_st_date = (11, 12, 2014)\n",
    "\n",
    "print(\"The exam will start : %i / %i /%i\"%exam_st_date)"
   ]
  },
  {
   "cell_type": "code",
   "execution_count": 5,
   "id": "9db0641c",
   "metadata": {
    "ExecuteTime": {
     "end_time": "2022-01-29T07:39:40.014119Z",
     "start_time": "2022-01-29T07:39:37.029476Z"
    }
   },
   "outputs": [
    {
     "name": "stdout",
     "output_type": "stream",
     "text": [
      "Input some comma seprated numbers : 1,2,3,4,5\n",
      "List :  ['1', '2', '3', '4', '5', '6']\n",
      "Tuple :  ('1', '2', '3', '4')\n"
     ]
    }
   ],
   "source": [
    "values = input(\"Input some comma seprated numbers : \")\n",
    "#list = values.split(\",\")\n",
    "#tuple = tuple(list)\n",
    "print('List : ',list)\n",
    "print('Tuple : ',tuple)"
   ]
  },
  {
   "cell_type": "markdown",
   "id": "a3071123",
   "metadata": {},
   "source": [
    " * Write a Python program that accepts an integer (n) and computes the value of n+nn+nnn"
   ]
  },
  {
   "cell_type": "code",
   "execution_count": 19,
   "id": "43cf0965",
   "metadata": {
    "ExecuteTime": {
     "end_time": "2022-01-29T07:53:23.994678Z",
     "start_time": "2022-01-29T07:53:22.947714Z"
    }
   },
   "outputs": [
    {
     "name": "stdout",
     "output_type": "stream",
     "text": [
      "Enter the number : 6\n",
      "Answer of the Integer :  738\n"
     ]
    }
   ],
   "source": [
    "a=int(input(\"Enter the number : \"))\n",
    "n1=int(\"%s\" %a)\n",
    "n2=int(\"%s%s\" %(a,a))\n",
    "n3=int( \"%s%s%s\" % (a,a,a))\n",
    "print(\"Answer of the Integer : \",n1+n2+n3)\n"
   ]
  },
  {
   "cell_type": "markdown",
   "id": "15d834e0",
   "metadata": {
    "ExecuteTime": {
     "end_time": "2022-01-29T07:54:26.286449Z",
     "start_time": "2022-01-29T07:54:26.259441Z"
    }
   },
   "source": [
    "* Write a Python program to print the documents (syntax, description etc.) of Python built-in function(s)"
   ]
  },
  {
   "cell_type": "code",
   "execution_count": 21,
   "id": "53ad09a1",
   "metadata": {
    "ExecuteTime": {
     "end_time": "2022-01-29T08:05:09.618879Z",
     "start_time": "2022-01-29T08:05:04.503149Z"
    }
   },
   "outputs": [
    {
     "name": "stdout",
     "output_type": "stream",
     "text": [
      "Enter the valuedoc\n",
      "Return the absolute value of the argument.\n"
     ]
    }
   ],
   "source": [
    "value=input(\"Enter the value\")\n",
    "print(abs.__doc__)"
   ]
  },
  {
   "cell_type": "markdown",
   "id": "1ebdf6aa",
   "metadata": {},
   "source": [
    "* Write a Python program to print the calendar of a given month and year."
   ]
  },
  {
   "cell_type": "code",
   "execution_count": 8,
   "id": "adca76df",
   "metadata": {
    "ExecuteTime": {
     "end_time": "2022-01-29T11:41:07.283731Z",
     "start_time": "2022-01-29T11:41:07.251714Z"
    }
   },
   "outputs": [
    {
     "name": "stdout",
     "output_type": "stream",
     "text": [
      "   February 2022\n",
      "Mo Tu We Th Fr Sa Su\n",
      "    1  2  3  4  5  6\n",
      " 7  8  9 10 11 12 13\n",
      "14 15 16 17 18 19 20\n",
      "21 22 23 24 25 26 27\n",
      "28\n",
      "\n",
      "                                  2022\n",
      "\n",
      "      January                   February                   March\n",
      "Mo Tu We Th Fr Sa Su      Mo Tu We Th Fr Sa Su      Mo Tu We Th Fr Sa Su\n",
      "                1  2          1  2  3  4  5  6          1  2  3  4  5  6\n",
      " 3  4  5  6  7  8  9       7  8  9 10 11 12 13       7  8  9 10 11 12 13\n",
      "10 11 12 13 14 15 16      14 15 16 17 18 19 20      14 15 16 17 18 19 20\n",
      "17 18 19 20 21 22 23      21 22 23 24 25 26 27      21 22 23 24 25 26 27\n",
      "24 25 26 27 28 29 30      28                        28 29 30 31\n",
      "31\n",
      "\n",
      "       April                      May                       June\n",
      "Mo Tu We Th Fr Sa Su      Mo Tu We Th Fr Sa Su      Mo Tu We Th Fr Sa Su\n",
      "             1  2  3                         1             1  2  3  4  5\n",
      " 4  5  6  7  8  9 10       2  3  4  5  6  7  8       6  7  8  9 10 11 12\n",
      "11 12 13 14 15 16 17       9 10 11 12 13 14 15      13 14 15 16 17 18 19\n",
      "18 19 20 21 22 23 24      16 17 18 19 20 21 22      20 21 22 23 24 25 26\n",
      "25 26 27 28 29 30         23 24 25 26 27 28 29      27 28 29 30\n",
      "                          30 31\n",
      "\n",
      "        July                     August                  September\n",
      "Mo Tu We Th Fr Sa Su      Mo Tu We Th Fr Sa Su      Mo Tu We Th Fr Sa Su\n",
      "             1  2  3       1  2  3  4  5  6  7                1  2  3  4\n",
      " 4  5  6  7  8  9 10       8  9 10 11 12 13 14       5  6  7  8  9 10 11\n",
      "11 12 13 14 15 16 17      15 16 17 18 19 20 21      12 13 14 15 16 17 18\n",
      "18 19 20 21 22 23 24      22 23 24 25 26 27 28      19 20 21 22 23 24 25\n",
      "25 26 27 28 29 30 31      29 30 31                  26 27 28 29 30\n",
      "\n",
      "      October                   November                  December\n",
      "Mo Tu We Th Fr Sa Su      Mo Tu We Th Fr Sa Su      Mo Tu We Th Fr Sa Su\n",
      "                1  2          1  2  3  4  5  6                1  2  3  4\n",
      " 3  4  5  6  7  8  9       7  8  9 10 11 12 13       5  6  7  8  9 10 11\n",
      "10 11 12 13 14 15 16      14 15 16 17 18 19 20      12 13 14 15 16 17 18\n",
      "17 18 19 20 21 22 23      21 22 23 24 25 26 27      19 20 21 22 23 24 25\n",
      "24 25 26 27 28 29 30      28 29 30                  26 27 28 29 30 31\n",
      "31\n",
      "\n"
     ]
    }
   ],
   "source": [
    "import calendar\n",
    "year=2022\n",
    "month=2\n",
    "print(calendar.month(year,months))\n",
    "print(calendar.calendar(year))"
   ]
  },
  {
   "cell_type": "markdown",
   "id": "9b4649a7",
   "metadata": {},
   "source": [
    "* Write a Python program to print the following 'here document'.\n",
    "* Sample string :\n",
    "* a string that you \"don't\" have to escape\n",
    "* This\n",
    "* is a ....... multi-line\n",
    "* heredoc string --------> example\n"
   ]
  },
  {
   "cell_type": "code",
   "execution_count": 10,
   "id": "0b603574",
   "metadata": {
    "ExecuteTime": {
     "end_time": "2022-01-29T11:44:49.800875Z",
     "start_time": "2022-01-29T11:44:49.784867Z"
    }
   },
   "outputs": [
    {
     "name": "stdout",
     "output_type": "stream",
     "text": [
      "a string that you \"don't\" have to escape\n",
      "This\n",
      "is a ....... multi-line\n",
      "heredoc string --------> example\n"
     ]
    }
   ],
   "source": [
    "print(\"\"\"a string that you \"don't\" have to escape\n",
    "This\n",
    "is a ....... multi-line\n",
    "heredoc string --------> example\"\"\")"
   ]
  },
  {
   "cell_type": "markdown",
   "id": "6cd690f0",
   "metadata": {
    "ExecuteTime": {
     "end_time": "2022-01-29T11:45:41.755280Z",
     "start_time": "2022-01-29T11:45:41.715274Z"
    }
   },
   "source": [
    "* Write a Python program to calculate number of days between two dates.\n",
    "* Sample dates : (2014, 7, 2), (2014, 7, 11)"
   ]
  },
  {
   "cell_type": "code",
   "execution_count": 24,
   "id": "f01f5807",
   "metadata": {
    "ExecuteTime": {
     "end_time": "2022-01-29T11:53:18.629940Z",
     "start_time": "2022-01-29T11:53:18.597935Z"
    }
   },
   "outputs": [
    {
     "name": "stdout",
     "output_type": "stream",
     "text": [
      "9 Days\n"
     ]
    }
   ],
   "source": [
    "from datetime import date\n",
    "\n",
    "date1=date(2014,7,2)\n",
    "date2=date(2014,7,11)\n",
    "date3=date2-date1\n",
    "\n",
    "print(date3.days,\"Days\")"
   ]
  },
  {
   "cell_type": "markdown",
   "id": "1456fd3b",
   "metadata": {},
   "source": [
    "*  Write a Python program to get the volume of a sphere with radius 6"
   ]
  },
  {
   "cell_type": "code",
   "execution_count": 27,
   "id": "61a12e25",
   "metadata": {
    "ExecuteTime": {
     "end_time": "2022-01-29T12:02:46.367363Z",
     "start_time": "2022-01-29T12:02:46.335324Z"
    }
   },
   "outputs": [
    {
     "name": "stdout",
     "output_type": "stream",
     "text": [
      "Area of Sphere:  150.72\n"
     ]
    }
   ],
   "source": [
    "radius=6\n",
    "formula = 4/3 *3.14 * (radius * radius)\n",
    "\n",
    "print(\"Area of Sphere: \",formula)"
   ]
  },
  {
   "cell_type": "markdown",
   "id": "cae0427e",
   "metadata": {},
   "source": [
    "* Write a Python program to get the difference between a given number and 17, if the number is greater than 17 return double the absolute difference"
   ]
  },
  {
   "cell_type": "code",
   "execution_count": 33,
   "id": "f4c3c246",
   "metadata": {
    "ExecuteTime": {
     "end_time": "2022-01-29T12:47:33.789803Z",
     "start_time": "2022-01-29T12:47:33.757801Z"
    }
   },
   "outputs": [
    {
     "name": "stdout",
     "output_type": "stream",
     "text": [
      "6\n"
     ]
    }
   ],
   "source": [
    "def difference(n):\n",
    "    if n<=17:\n",
    "        return 17 - n\n",
    "    else:\n",
    "        return (n-17)*2\n",
    "    \n",
    "print(difference(20))    "
   ]
  },
  {
   "cell_type": "markdown",
   "id": "253af87a",
   "metadata": {
    "ExecuteTime": {
     "end_time": "2022-01-29T13:02:07.327735Z",
     "start_time": "2022-01-29T13:02:07.295729Z"
    }
   },
   "source": [
    "* Write a Python program to test whether a number is within 100 of 1000 or 2000. "
   ]
  },
  {
   "cell_type": "code",
   "execution_count": 40,
   "id": "db52c554",
   "metadata": {
    "ExecuteTime": {
     "end_time": "2022-01-29T13:13:30.059228Z",
     "start_time": "2022-01-29T13:13:30.002858Z"
    }
   },
   "outputs": [
    {
     "name": "stdout",
     "output_type": "stream",
     "text": [
      "False\n"
     ]
    }
   ],
   "source": [
    "def number(n):\n",
    "    return (abs(1000 -n)<=100) or (abs(2000 - n )<= 100)\n",
    "print(number(10))       "
   ]
  },
  {
   "cell_type": "markdown",
   "id": "2e899f63",
   "metadata": {},
   "source": [
    "* Write a Python program to calculate the sum of three given numbers, if the values are equal then return three times of their sum"
   ]
  },
  {
   "cell_type": "code",
   "execution_count": 46,
   "id": "1bc69706",
   "metadata": {
    "ExecuteTime": {
     "end_time": "2022-01-29T13:31:14.018245Z",
     "start_time": "2022-01-29T13:31:13.994238Z"
    }
   },
   "outputs": [
    {
     "name": "stdout",
     "output_type": "stream",
     "text": [
      "7\n",
      "9\n"
     ]
    }
   ],
   "source": [
    "def given_number(x,y,z):\n",
    "    sum=x+y+z\n",
    "    if x==y==z:        \n",
    "        sum=sum*3\n",
    "    return sum    \n",
    "        \n",
    "print(given_number(2,2,3))\n",
    "print(given_number(1,1,1))"
   ]
  },
  {
   "cell_type": "markdown",
   "id": "102a5888",
   "metadata": {},
   "source": [
    " * Write a Python program to get a new string from a given string where \"Is\" has been added to the front. If the given string already begins with \"Is\" then return the string unchanged"
   ]
  },
  {
   "cell_type": "code",
   "execution_count": 7,
   "id": "aa0ebf92",
   "metadata": {
    "ExecuteTime": {
     "end_time": "2022-01-31T06:31:48.953843Z",
     "start_time": "2022-01-31T06:31:48.926852Z"
    }
   },
   "outputs": [
    {
     "name": "stdout",
     "output_type": "stream",
     "text": [
      "Is good\n"
     ]
    }
   ],
   "source": [
    "#string=input(\"Enter the string \")\n",
    "\n",
    "def new_string(n):\n",
    "    if len(n)>=2 and n[:2]=='Is':\n",
    "        return n\n",
    "    return 'Is' +n\n",
    "        \n",
    "print(new_string(\" good\"))        "
   ]
  },
  {
   "cell_type": "markdown",
   "id": "7a9836bd",
   "metadata": {},
   "source": [
    "* Write a Python program to get a string which is n (non-negative integer) copies of a given string"
   ]
  },
  {
   "cell_type": "code",
   "execution_count": 16,
   "id": "09c655de",
   "metadata": {
    "ExecuteTime": {
     "end_time": "2022-01-31T06:55:38.358936Z",
     "start_time": "2022-01-31T06:55:38.313025Z"
    }
   },
   "outputs": [
    {
     "name": "stdout",
     "output_type": "stream",
     "text": [
      "abc abc \n"
     ]
    }
   ],
   "source": [
    "def new_string(str,n):\n",
    "    result=\"\"\n",
    "    for i in range(n):\n",
    "        result=result + str\n",
    "    return result   \n",
    "\n",
    "print(new_string('abc ',2))\n"
   ]
  },
  {
   "cell_type": "code",
   "execution_count": null,
   "id": "82631f9f",
   "metadata": {},
   "outputs": [],
   "source": []
  }
 ],
 "metadata": {
  "kernelspec": {
   "display_name": "Python 3 (ipykernel)",
   "language": "python",
   "name": "python3"
  },
  "language_info": {
   "codemirror_mode": {
    "name": "ipython",
    "version": 3
   },
   "file_extension": ".py",
   "mimetype": "text/x-python",
   "name": "python",
   "nbconvert_exporter": "python",
   "pygments_lexer": "ipython3",
   "version": "3.9.7"
  },
  "toc": {
   "base_numbering": 1,
   "nav_menu": {},
   "number_sections": true,
   "sideBar": true,
   "skip_h1_title": false,
   "title_cell": "Table of Contents",
   "title_sidebar": "Contents",
   "toc_cell": false,
   "toc_position": {},
   "toc_section_display": true,
   "toc_window_display": false
  },
  "varInspector": {
   "cols": {
    "lenName": 16,
    "lenType": 16,
    "lenVar": 40
   },
   "kernels_config": {
    "python": {
     "delete_cmd_postfix": "",
     "delete_cmd_prefix": "del ",
     "library": "var_list.py",
     "varRefreshCmd": "print(var_dic_list())"
    },
    "r": {
     "delete_cmd_postfix": ") ",
     "delete_cmd_prefix": "rm(",
     "library": "var_list.r",
     "varRefreshCmd": "cat(var_dic_list()) "
    }
   },
   "types_to_exclude": [
    "module",
    "function",
    "builtin_function_or_method",
    "instance",
    "_Feature"
   ],
   "window_display": false
  }
 },
 "nbformat": 4,
 "nbformat_minor": 5
}
