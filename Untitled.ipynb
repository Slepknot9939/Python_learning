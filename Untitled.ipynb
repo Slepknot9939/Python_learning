{
 "cells": [
  {
   "cell_type": "markdown",
   "id": "5619f123",
   "metadata": {},
   "source": [
    "# Variables"
   ]
  },
  {
   "cell_type": "code",
   "execution_count": 1,
   "id": "ea5ca3da",
   "metadata": {
    "ExecuteTime": {
     "end_time": "2021-12-07T03:06:31.582947Z",
     "start_time": "2021-12-07T03:06:31.558949Z"
    }
   },
   "outputs": [
    {
     "name": "stdout",
     "output_type": "stream",
     "text": [
      "5\n",
      "Ram\n"
     ]
    }
   ],
   "source": [
    "x=5\n",
    "y='Ram'\n",
    "print(x)\n",
    "print(y)"
   ]
  },
  {
   "cell_type": "code",
   "execution_count": 2,
   "id": "cf6518f2",
   "metadata": {
    "ExecuteTime": {
     "end_time": "2021-12-07T03:06:37.765762Z",
     "start_time": "2021-12-07T03:06:37.717755Z"
    }
   },
   "outputs": [
    {
     "data": {
      "text/plain": [
       "int"
      ]
     },
     "execution_count": 2,
     "metadata": {},
     "output_type": "execute_result"
    }
   ],
   "source": [
    "type(x)"
   ]
  },
  {
   "cell_type": "code",
   "execution_count": 3,
   "id": "e0a6d25d",
   "metadata": {
    "ExecuteTime": {
     "end_time": "2021-12-07T03:06:46.160272Z",
     "start_time": "2021-12-07T03:06:46.136269Z"
    }
   },
   "outputs": [
    {
     "data": {
      "text/plain": [
       "str"
      ]
     },
     "execution_count": 3,
     "metadata": {},
     "output_type": "execute_result"
    }
   ],
   "source": [
    "type(y)"
   ]
  },
  {
   "cell_type": "code",
   "execution_count": 4,
   "id": "a79a0182",
   "metadata": {
    "ExecuteTime": {
     "end_time": "2021-12-07T03:07:40.880375Z",
     "start_time": "2021-12-07T03:07:40.856372Z"
    }
   },
   "outputs": [],
   "source": [
    "# converting variables to another form\n",
    "x=str(2)\n",
    "y=int(2)\n",
    "z=float(2)"
   ]
  },
  {
   "cell_type": "code",
   "execution_count": 5,
   "id": "d2616e48",
   "metadata": {
    "ExecuteTime": {
     "end_time": "2021-12-07T03:07:43.104289Z",
     "start_time": "2021-12-07T03:07:43.088286Z"
    }
   },
   "outputs": [
    {
     "data": {
      "text/plain": [
       "'2'"
      ]
     },
     "execution_count": 5,
     "metadata": {},
     "output_type": "execute_result"
    }
   ],
   "source": [
    "x"
   ]
  },
  {
   "cell_type": "code",
   "execution_count": 6,
   "id": "9b119b65",
   "metadata": {
    "ExecuteTime": {
     "end_time": "2021-12-07T03:07:45.535251Z",
     "start_time": "2021-12-07T03:07:45.519248Z"
    }
   },
   "outputs": [
    {
     "data": {
      "text/plain": [
       "2"
      ]
     },
     "execution_count": 6,
     "metadata": {},
     "output_type": "execute_result"
    }
   ],
   "source": [
    "y"
   ]
  },
  {
   "cell_type": "code",
   "execution_count": 7,
   "id": "a0a061e5",
   "metadata": {
    "ExecuteTime": {
     "end_time": "2021-12-07T03:07:47.344586Z",
     "start_time": "2021-12-07T03:07:47.320585Z"
    }
   },
   "outputs": [
    {
     "data": {
      "text/plain": [
       "2.0"
      ]
     },
     "execution_count": 7,
     "metadata": {},
     "output_type": "execute_result"
    }
   ],
   "source": [
    "z"
   ]
  },
  {
   "cell_type": "code",
   "execution_count": 9,
   "id": "5aea657a",
   "metadata": {
    "ExecuteTime": {
     "end_time": "2021-12-07T03:09:53.077939Z",
     "start_time": "2021-12-07T03:09:53.061929Z"
    }
   },
   "outputs": [
    {
     "name": "stdout",
     "output_type": "stream",
     "text": [
      "<class 'str'>\n",
      "<class 'int'>\n",
      "<class 'float'>\n"
     ]
    }
   ],
   "source": [
    "print(type(x))\n",
    "print(type(y))\n",
    "print(type(z))"
   ]
  },
  {
   "cell_type": "code",
   "execution_count": 10,
   "id": "355e6119",
   "metadata": {
    "ExecuteTime": {
     "end_time": "2021-12-07T03:11:28.594225Z",
     "start_time": "2021-12-07T03:11:28.570223Z"
    }
   },
   "outputs": [
    {
     "name": "stdout",
     "output_type": "stream",
     "text": [
      "4\n",
      "<class 'int'>\n",
      "Ram\n",
      "<class 'str'>\n"
     ]
    }
   ],
   "source": [
    "a=4\n",
    "A='Ram'\n",
    "print(a)\n",
    "print(type(a))\n",
    "print(A)\n",
    "print(type(A))"
   ]
  },
  {
   "cell_type": "markdown",
   "id": "6e55d503",
   "metadata": {},
   "source": [
    "# Case in variables\n",
    "* camel case (except first letter every word has capital letter)\n",
    "* pascal case (every first letter is capital of each word)\n",
    "* snake case (Each word is seprated by underscore)"
   ]
  },
  {
   "cell_type": "code",
   "execution_count": 11,
   "id": "cf49edd6",
   "metadata": {
    "ExecuteTime": {
     "end_time": "2021-12-07T03:17:03.634199Z",
     "start_time": "2021-12-07T03:17:03.626201Z"
    }
   },
   "outputs": [],
   "source": [
    "#camel case\n",
    "\n",
    "myNameGoing=a"
   ]
  },
  {
   "cell_type": "code",
   "execution_count": 13,
   "id": "2f3b60d4",
   "metadata": {
    "ExecuteTime": {
     "end_time": "2021-12-07T03:17:33.300462Z",
     "start_time": "2021-12-07T03:17:33.284458Z"
    }
   },
   "outputs": [],
   "source": [
    "#pascal case\n",
    "MyNameGoing=1"
   ]
  },
  {
   "cell_type": "code",
   "execution_count": 14,
   "id": "0f7bd711",
   "metadata": {
    "ExecuteTime": {
     "end_time": "2021-12-07T03:17:51.279724Z",
     "start_time": "2021-12-07T03:17:51.271719Z"
    }
   },
   "outputs": [],
   "source": [
    "# Snake Case\n",
    "\n",
    "my_Name_Going=2"
   ]
  },
  {
   "cell_type": "markdown",
   "id": "92abe7b3",
   "metadata": {},
   "source": [
    "# Multiple Values to variable"
   ]
  },
  {
   "cell_type": "code",
   "execution_count": 15,
   "id": "bb6c01e7",
   "metadata": {
    "ExecuteTime": {
     "end_time": "2021-12-07T03:19:27.195988Z",
     "start_time": "2021-12-07T03:19:27.171986Z"
    }
   },
   "outputs": [
    {
     "name": "stdout",
     "output_type": "stream",
     "text": [
      "go\n",
      "not\n",
      "bye\n"
     ]
    }
   ],
   "source": [
    "x,y,z=\"go\",'not',\"bye\"\n",
    "print(x)\n",
    "print(y)\n",
    "print(z)"
   ]
  },
  {
   "cell_type": "code",
   "execution_count": 19,
   "id": "21827dc4",
   "metadata": {
    "ExecuteTime": {
     "end_time": "2021-12-07T03:20:45.788027Z",
     "start_time": "2021-12-07T03:20:45.763855Z"
    }
   },
   "outputs": [
    {
     "name": "stdout",
     "output_type": "stream",
     "text": [
      "Have good day\n",
      "Have good day\n",
      "Have good day\n"
     ]
    }
   ],
   "source": [
    "x=y=z=\"Have good day\"\n",
    "print(x)\n",
    "print(y)\n",
    "print(z)"
   ]
  },
  {
   "cell_type": "code",
   "execution_count": 29,
   "id": "d609b7a3",
   "metadata": {
    "ExecuteTime": {
     "end_time": "2021-12-07T03:32:29.879772Z",
     "start_time": "2021-12-07T03:32:29.847764Z"
    }
   },
   "outputs": [
    {
     "ename": "TypeError",
     "evalue": "'list' object is not callable",
     "output_type": "error",
     "traceback": [
      "\u001b[1;31m---------------------------------------------------------------------------\u001b[0m",
      "\u001b[1;31mTypeError\u001b[0m                                 Traceback (most recent call last)",
      "\u001b[1;32m<ipython-input-29-f999ca91844e>\u001b[0m in \u001b[0;36m<module>\u001b[1;34m\u001b[0m\n\u001b[0;32m      1\u001b[0m \u001b[1;31m# Unpacking a collection\u001b[0m\u001b[1;33m\u001b[0m\u001b[1;33m\u001b[0m\u001b[1;33m\u001b[0m\u001b[0m\n\u001b[0;32m      2\u001b[0m \u001b[0mschools\u001b[0m\u001b[1;33m=\u001b[0m\u001b[1;33m[\u001b[0m\u001b[1;34m'RLT'\u001b[0m\u001b[1;33m,\u001b[0m\u001b[1;34m'HDC'\u001b[0m\u001b[1;33m,\u001b[0m\u001b[1;34m'LRT'\u001b[0m\u001b[1;33m]\u001b[0m\u001b[1;33m\u001b[0m\u001b[1;33m\u001b[0m\u001b[0m\n\u001b[1;32m----> 3\u001b[1;33m \u001b[0mx\u001b[0m\u001b[1;33m,\u001b[0m\u001b[0my\u001b[0m\u001b[1;33m,\u001b[0m\u001b[0mz\u001b[0m\u001b[1;33m=\u001b[0m\u001b[0mschools\u001b[0m\u001b[1;33m(\u001b[0m\u001b[1;33m[\u001b[0m\u001b[1;36m1\u001b[0m\u001b[1;33m]\u001b[0m\u001b[1;33m,\u001b[0m\u001b[1;33m[\u001b[0m\u001b[1;36m0\u001b[0m\u001b[1;33m]\u001b[0m\u001b[1;33m,\u001b[0m\u001b[1;33m[\u001b[0m\u001b[1;36m2\u001b[0m\u001b[1;33m]\u001b[0m\u001b[1;33m)\u001b[0m\u001b[1;33m\u001b[0m\u001b[1;33m\u001b[0m\u001b[0m\n\u001b[0m\u001b[0;32m      4\u001b[0m \u001b[0mprint\u001b[0m\u001b[1;33m(\u001b[0m\u001b[0mx\u001b[0m\u001b[1;33m)\u001b[0m\u001b[1;33m\u001b[0m\u001b[1;33m\u001b[0m\u001b[0m\n\u001b[0;32m      5\u001b[0m \u001b[0mprint\u001b[0m\u001b[1;33m(\u001b[0m\u001b[0my\u001b[0m\u001b[1;33m)\u001b[0m\u001b[1;33m\u001b[0m\u001b[1;33m\u001b[0m\u001b[0m\n",
      "\u001b[1;31mTypeError\u001b[0m: 'list' object is not callable"
     ]
    }
   ],
   "source": [
    "# Unpacking a collection\n",
    "schools=['RLT','HDC','LRT']\n",
    "x,y,z=schools([1],[0],[2])\n",
    "print(x)\n",
    "print(y)\n",
    "print(z)"
   ]
  },
  {
   "cell_type": "markdown",
   "id": "d4acf735",
   "metadata": {},
   "source": [
    "# DataTypes"
   ]
  },
  {
   "cell_type": "markdown",
   "id": "3aee2353",
   "metadata": {},
   "source": [
    "* Integer----any numerical whole value \n",
    "* Float----any decimal numerical value\n",
    "* String----denoted in '',\"\",\"\"\" \"\"\" .immutable\n",
    "* List----denoted [] and mutable\n",
    "* Tuple----denoted ( and immutable)\n",
    "* Dictionary---demoted {'key':'values'}\n",
    "* Set----denoted {}\n"
   ]
  },
  {
   "cell_type": "markdown",
   "id": "2cfd3056",
   "metadata": {},
   "source": [
    "# Operators"
   ]
  },
  {
   "cell_type": "markdown",
   "id": "41208e33",
   "metadata": {
    "ExecuteTime": {
     "end_time": "2021-12-09T08:01:18.919508Z",
     "start_time": "2021-12-09T08:01:18.887500Z"
    }
   },
   "source": [
    "* Arithmetic operator (+,-,*,/,//,%,**)\n",
    "* Condition Operator (<,>,<=,>=,!=) (comparison done on the basis of values)\n",
    "* Identical operator (is ,is not)(comparison done on the basis of memory)\n",
    "* Assignment operator (=,+=,-=,)\n",
    "* bitwise operator (&,|,^,>>,<<)\n",
    "* logical operator ( and ,or, not)\n",
    "* membership operator (in not in)"
   ]
  },
  {
   "cell_type": "markdown",
   "id": "dcce6cc5",
   "metadata": {},
   "source": [
    "# Condition"
   ]
  },
  {
   "cell_type": "markdown",
   "id": "8a93da0d",
   "metadata": {},
   "source": [
    "if [condition]:\n",
    "    statement\n",
    "else :\n",
    "    statement\n",
    "    \n",
    "    \n",
    "if [condition]:\n",
    "    statement\n",
    "elif [condition]:\n",
    "    statement\n",
    "else:\n",
    "    statement\n",
    "    \n",
    "    "
   ]
  },
  {
   "cell_type": "markdown",
   "id": "0496282c",
   "metadata": {},
   "source": [
    "# Loops\n",
    "* FOR LOOPs\n",
    "* While Loops"
   ]
  },
  {
   "cell_type": "markdown",
   "id": "f23d5360",
   "metadata": {},
   "source": [
    "# For Loop"
   ]
  },
  {
   "cell_type": "code",
   "execution_count": null,
   "id": "5992b729",
   "metadata": {},
   "outputs": [],
   "source": [
    "* For loop\n",
    "* Iterable_datatypes [ list,string,dictionary,set,tuple]\n",
    "* for [variable_name] in [itreable_datatype]:\n",
    "    statement\n",
    "    \n",
    "* Break---once the condition is satisfied \n",
    "* continue---to continue the iteration\n",
    "* pass----it is used when functionality is not define\n",
    "* Enumerate --it is used or indexing service only"
   ]
  },
  {
   "cell_type": "code",
   "execution_count": 6,
   "id": "2b4439f2",
   "metadata": {
    "ExecuteTime": {
     "end_time": "2021-12-09T08:10:43.133711Z",
     "start_time": "2021-12-09T08:10:43.109702Z"
    }
   },
   "outputs": [
    {
     "name": "stdout",
     "output_type": "stream",
     "text": [
      "key found\n"
     ]
    }
   ],
   "source": [
    "l=[10,20,30,40,50]\n",
    "key=40\n",
    "for values in l:\n",
    "    if values==key:\n",
    "        print(\"key found\")\n",
    "        break\n",
    "    else:\n",
    "        continue\n",
    "else:\n",
    "    print(\"key not found\")        "
   ]
  },
  {
   "cell_type": "code",
   "execution_count": 11,
   "id": "b93d580a",
   "metadata": {
    "ExecuteTime": {
     "end_time": "2021-12-09T08:13:23.416455Z",
     "start_time": "2021-12-09T08:13:23.392452Z"
    }
   },
   "outputs": [
    {
     "name": "stdout",
     "output_type": "stream",
     "text": [
      "Not found\n"
     ]
    }
   ],
   "source": [
    "A=[10,20,30,40,[10,40,60,\"Python\"]]\n",
    "key=60\n",
    "for values in A:\n",
    "    if values==key:\n",
    "        print(\"FOund\")\n",
    "        break\n",
    "    else:\n",
    "        continue\n",
    "else:\n",
    "    print(\"Not found\")"
   ]
  },
  {
   "cell_type": "code",
   "execution_count": 17,
   "id": "5f6ac4a8",
   "metadata": {
    "ExecuteTime": {
     "end_time": "2021-12-09T08:16:06.437442Z",
     "start_time": "2021-12-09T08:16:06.413440Z"
    }
   },
   "outputs": [
    {
     "name": "stdout",
     "output_type": "stream",
     "text": [
      "10\n",
      "30\n",
      "60\n",
      "100\n"
     ]
    }
   ],
   "source": [
    "l=[10,20,30,40]\n",
    "sum=0\n",
    "for values in l:\n",
    "    sum=sum +values\n",
    "    print(sum)"
   ]
  },
  {
   "cell_type": "code",
   "execution_count": 18,
   "id": "b73b86b7",
   "metadata": {
    "ExecuteTime": {
     "end_time": "2021-12-09T08:16:57.147099Z",
     "start_time": "2021-12-09T08:16:57.091084Z"
    }
   },
   "outputs": [
    {
     "ename": "TypeError",
     "evalue": "unsupported operand type(s) for +: 'int' and 'str'",
     "output_type": "error",
     "traceback": [
      "\u001b[1;31m---------------------------------------------------------------------------\u001b[0m",
      "\u001b[1;31mTypeError\u001b[0m                                 Traceback (most recent call last)",
      "\u001b[1;32m<ipython-input-18-777f8adefe0c>\u001b[0m in \u001b[0;36m<module>\u001b[1;34m\u001b[0m\n\u001b[0;32m      3\u001b[0m \u001b[1;33m\u001b[0m\u001b[0m\n\u001b[0;32m      4\u001b[0m \u001b[1;32mfor\u001b[0m \u001b[0mvalues\u001b[0m \u001b[1;32min\u001b[0m \u001b[0ml\u001b[0m\u001b[1;33m:\u001b[0m\u001b[1;33m\u001b[0m\u001b[1;33m\u001b[0m\u001b[0m\n\u001b[1;32m----> 5\u001b[1;33m     \u001b[0msum\u001b[0m\u001b[1;33m=\u001b[0m\u001b[0msum\u001b[0m\u001b[1;33m+\u001b[0m\u001b[0mvalues\u001b[0m\u001b[1;33m\u001b[0m\u001b[1;33m\u001b[0m\u001b[0m\n\u001b[0m\u001b[0;32m      6\u001b[0m     \u001b[0mprint\u001b[0m\u001b[1;33m(\u001b[0m\u001b[0msum\u001b[0m\u001b[1;33m)\u001b[0m\u001b[1;33m\u001b[0m\u001b[1;33m\u001b[0m\u001b[0m\n",
      "\u001b[1;31mTypeError\u001b[0m: unsupported operand type(s) for +: 'int' and 'str'"
     ]
    }
   ],
   "source": [
    "l=['I','Love']\n",
    "sum=0\n",
    "\n",
    "for values in l:\n",
    "    sum=sum+values\n",
    "    print(sum)"
   ]
  },
  {
   "cell_type": "code",
   "execution_count": 19,
   "id": "e34b853b",
   "metadata": {
    "ExecuteTime": {
     "end_time": "2021-12-09T08:20:58.728773Z",
     "start_time": "2021-12-09T08:20:58.704774Z"
    }
   },
   "outputs": [
    {
     "name": "stdout",
     "output_type": "stream",
     "text": [
      "0 10\n",
      "1 20\n",
      "2 30\n",
      "3 405\n",
      "4 500\n"
     ]
    }
   ],
   "source": [
    "l=[10,20,30,405,500]\n",
    "\n",
    "#Enumerate use for Idnexing service only\n",
    "for index,value in enumerate(l):\n",
    "    print(index,value)"
   ]
  },
  {
   "cell_type": "code",
   "execution_count": 23,
   "id": "59b6097d",
   "metadata": {
    "ExecuteTime": {
     "end_time": "2021-12-09T08:24:54.107425Z",
     "start_time": "2021-12-09T08:24:54.091422Z"
    }
   },
   "outputs": [
    {
     "name": "stdout",
     "output_type": "stream",
     "text": [
      "key found at index  5\n"
     ]
    }
   ],
   "source": [
    "l=[10,20,30,40,\"Python\",\"SQL\"]\n",
    "key=\"SQL\"\n",
    "for index,value in enumerate(l):\n",
    "    if value==key:\n",
    "        print(\"key found at index \",index)\n",
    "        break\n",
    "    else:\n",
    "        continue\n",
    "else:\n",
    "    print(\"key not found\")"
   ]
  },
  {
   "cell_type": "markdown",
   "id": "b021eba7",
   "metadata": {},
   "source": [
    "# While Loop"
   ]
  },
  {
   "cell_type": "code",
   "execution_count": null,
   "id": "0e7177fc",
   "metadata": {},
   "outputs": [],
   "source": [
    "* While Loop\n",
    "\n",
    "* While [Condition]:\n",
    "    [statement]\n",
    "* else:\n",
    "    statement"
   ]
  },
  {
   "cell_type": "code",
   "execution_count": 25,
   "id": "883a49c6",
   "metadata": {
    "ExecuteTime": {
     "end_time": "2021-12-09T08:39:07.292497Z",
     "start_time": "2021-12-09T08:39:07.268496Z"
    }
   },
   "outputs": [
    {
     "name": "stdout",
     "output_type": "stream",
     "text": [
      "210\n"
     ]
    }
   ],
   "source": [
    "count=1\n",
    "sum=0\n",
    "while count <=20:\n",
    "    sum=sum+count\n",
    "    count=count+1\n",
    "print(sum)"
   ]
  },
  {
   "cell_type": "code",
   "execution_count": 30,
   "id": "2dd07de6",
   "metadata": {
    "ExecuteTime": {
     "end_time": "2021-12-09T08:47:13.439947Z",
     "start_time": "2021-12-09T08:47:11.893588Z"
    }
   },
   "outputs": [
    {
     "name": "stdout",
     "output_type": "stream",
     "text": [
      "Enter thr number : 1\n",
      "Prime Number\n"
     ]
    }
   ],
   "source": [
    "# finding primary number\n",
    "n=int(input(\"Enter thr number : \"))\n",
    "for i in range(2,n):\n",
    "    if n%i==0:\n",
    "        print(\"Not a prime Number\")\n",
    "        break\n",
    "else:\n",
    "    print(\"Prime Number\")    "
   ]
  },
  {
   "cell_type": "code",
   "execution_count": 33,
   "id": "ace42bef",
   "metadata": {
    "ExecuteTime": {
     "end_time": "2021-12-09T08:52:19.252661Z",
     "start_time": "2021-12-09T08:52:19.228658Z"
    }
   },
   "outputs": [
    {
     "name": "stdout",
     "output_type": "stream",
     "text": [
      "1\n",
      "2\n",
      "3\n",
      "4\n",
      "5\n",
      "6\n",
      "7\n",
      "8\n",
      "9\n",
      "10\n"
     ]
    }
   ],
   "source": [
    "# Print First 10 natural numbers using while loop\n",
    "\n",
    "l=1\n",
    "while l <=10:\n",
    "    print(l)\n",
    "    l+=1"
   ]
  },
  {
   "cell_type": "code",
   "execution_count": 43,
   "id": "95935ccd",
   "metadata": {
    "ExecuteTime": {
     "end_time": "2021-12-09T09:01:05.039559Z",
     "start_time": "2021-12-09T09:01:05.015551Z"
    }
   },
   "outputs": [
    {
     "name": "stdout",
     "output_type": "stream",
     "text": [
      "Number Pattern\n",
      "1  \n",
      "1 2  \n",
      "1 2 3  \n",
      "1 2 3 4  \n",
      "1 2 3 4 5  \n"
     ]
    }
   ],
   "source": [
    "# Print the following pattern\n",
    "print(\"Number Pattern\")\n",
    "row=5\n",
    "for i in range(1,row+1,1):\n",
    "    for j in range(1,i+1):\n",
    "        print(j,end=\" \")\n",
    "    print(\" \")    "
   ]
  },
  {
   "cell_type": "code",
   "execution_count": 54,
   "id": "bd20dcfb",
   "metadata": {
    "ExecuteTime": {
     "end_time": "2021-12-09T09:14:26.436757Z",
     "start_time": "2021-12-09T09:14:24.518316Z"
    }
   },
   "outputs": [
    {
     "name": "stdout",
     "output_type": "stream",
     "text": [
      "Enter thr number:-4\n",
      "Sum is :  10\n"
     ]
    }
   ],
   "source": [
    "# Calculate the sum of all numbers from 1 to a given number\n",
    "\n",
    "a=0\n",
    "b=int(input(\"Enter thr number:-\"))\n",
    "\n",
    "for i in range(a,b+1):\n",
    "    a+=i\n",
    "print(\"Sum is : \",a)    \n",
    "    \n",
    "    \n"
   ]
  },
  {
   "cell_type": "code",
   "execution_count": 58,
   "id": "59dfed73",
   "metadata": {
    "ExecuteTime": {
     "end_time": "2021-12-09T09:18:45.491090Z",
     "start_time": "2021-12-09T09:18:43.802975Z"
    }
   },
   "outputs": [
    {
     "name": "stdout",
     "output_type": "stream",
     "text": [
      "Enter the number: 2\n",
      "Table is : 2 x 1 = 2\n",
      "Table is : 2 x 2 = 4\n",
      "Table is : 2 x 3 = 6\n",
      "Table is : 2 x 4 = 8\n",
      "Table is : 2 x 5 = 10\n",
      "Table is : 2 x 6 = 12\n",
      "Table is : 2 x 7 = 14\n",
      "Table is : 2 x 8 = 16\n",
      "Table is : 2 x 9 = 18\n",
      "Table is : 2 x 10 = 20\n"
     ]
    }
   ],
   "source": [
    "#Write a program to print multiplication table of a given number\n",
    "\n",
    "a=int(input(\"Enter the number: \"))\n",
    "\n",
    "for i in range(1,11):\n",
    "    p=a*i\n",
    "    print(\"Table is :\",a,'x',i,'=',p)    "
   ]
  },
  {
   "cell_type": "code",
   "execution_count": 59,
   "id": "aa664448",
   "metadata": {
    "ExecuteTime": {
     "end_time": "2021-12-09T09:21:27.318325Z",
     "start_time": "2021-12-09T09:21:27.294322Z"
    }
   },
   "outputs": [
    {
     "name": "stdout",
     "output_type": "stream",
     "text": [
      "key found\n"
     ]
    }
   ],
   "source": [
    "#  Display numbers from a list using loop\n",
    "l=[10,20,30,40]\n",
    "key=40\n",
    "\n",
    "for value in l:\n",
    "    if value==key:\n",
    "        print(\"key found\")\n",
    "        break\n",
    "    else:\n",
    "        continue\n",
    "else:\n",
    "    print(\"Not found\")"
   ]
  },
  {
   "cell_type": "code",
   "execution_count": 5,
   "id": "1ea22c48",
   "metadata": {
    "ExecuteTime": {
     "end_time": "2021-12-16T07:57:41.084049Z",
     "start_time": "2021-12-16T07:57:41.044044Z"
    }
   },
   "outputs": [
    {
     "name": "stdout",
     "output_type": "stream",
     "text": [
      "Number is divsiable by 7 and 5 1505\n",
      "Number is divsiable by 7 and 5 1540\n",
      "Number is divsiable by 7 and 5 1575\n",
      "Number is divsiable by 7 and 5 1610\n",
      "Number is divsiable by 7 and 5 1645\n",
      "Number is divsiable by 7 and 5 1680\n",
      "Number is divsiable by 7 and 5 1715\n",
      "Number is divsiable by 7 and 5 1750\n",
      "Number is divsiable by 7 and 5 1785\n",
      "Number is divsiable by 7 and 5 1820\n",
      "Number is divsiable by 7 and 5 1855\n",
      "Number is divsiable by 7 and 5 1890\n",
      "Number is divsiable by 7 and 5 1925\n",
      "Number is divsiable by 7 and 5 1960\n",
      "Number is divsiable by 7 and 5 1995\n",
      "Number is divsiable by 7 and 5 2030\n",
      "Number is divsiable by 7 and 5 2065\n",
      "Number is divsiable by 7 and 5 2100\n",
      "Number is divsiable by 7 and 5 2135\n",
      "Number is divsiable by 7 and 5 2170\n",
      "Number is divsiable by 7 and 5 2205\n",
      "Number is divsiable by 7 and 5 2240\n",
      "Number is divsiable by 7 and 5 2275\n",
      "Number is divsiable by 7 and 5 2310\n",
      "Number is divsiable by 7 and 5 2345\n",
      "Number is divsiable by 7 and 5 2380\n",
      "Number is divsiable by 7 and 5 2415\n",
      "Number is divsiable by 7 and 5 2450\n",
      "Number is divsiable by 7 and 5 2485\n",
      "Number is divsiable by 7 and 5 2520\n",
      "Number is divsiable by 7 and 5 2555\n",
      "Number is divsiable by 7 and 5 2590\n",
      "Number is divsiable by 7 and 5 2625\n",
      "Number is divsiable by 7 and 5 2660\n",
      "Number is divsiable by 7 and 5 2695\n"
     ]
    }
   ],
   "source": [
    "# Write a python program to find those number which are divisible by 7and 5 betweeen 1500 and 2700\n",
    "\n",
    "for i in range(1500,2700):\n",
    "    if i%7==0 and i%5==0:\n",
    "        print(\"Number is divsiable by 7 and 5\",i)     \n",
    "        "
   ]
  },
  {
   "cell_type": "code",
   "execution_count": 22,
   "id": "f7c9d294",
   "metadata": {
    "ExecuteTime": {
     "end_time": "2021-12-16T08:12:47.638126Z",
     "start_time": "2021-12-16T08:12:47.614123Z"
    }
   },
   "outputs": [
    {
     "name": "stdout",
     "output_type": "stream",
     "text": [
      "Odd number\n",
      "Even Number\n",
      "Odd number\n",
      "Even Number\n",
      "Odd number\n",
      "Odd number\n"
     ]
    }
   ],
   "source": [
    "# write a python program to count the number of even and odd number from series of numbers\n",
    "\n",
    "\n",
    "number=(1,2,3,4,5,67)\n",
    "\n",
    "for i in (number):\n",
    "    if i % 2==0:\n",
    "        print(\"Even Number\")\n",
    "    else:\n",
    "        print(\"Odd number\")"
   ]
  },
  {
   "cell_type": "code",
   "execution_count": 28,
   "id": "da73f1e7",
   "metadata": {
    "ExecuteTime": {
     "end_time": "2021-12-16T08:16:34.222663Z",
     "start_time": "2021-12-16T08:16:32.597706Z"
    }
   },
   "outputs": [
    {
     "name": "stdout",
     "output_type": "stream",
     "text": [
      "Enter the number : 2\n",
      "Even Number\n"
     ]
    }
   ],
   "source": [
    "i=int(input(\"Enter the number : \"))\n",
    "if i % 2==0:\n",
    "    print(\"Even Number\")\n",
    "else:\n",
    "    print(\"Odd Number\")\n",
    "    "
   ]
  },
  {
   "cell_type": "code",
   "execution_count": 30,
   "id": "c99692e3",
   "metadata": {
    "ExecuteTime": {
     "end_time": "2021-12-16T08:33:13.521058Z",
     "start_time": "2021-12-16T08:33:13.481052Z"
    }
   },
   "outputs": [
    {
     "name": "stdout",
     "output_type": "stream",
     "text": [
      "1\n",
      "2\n",
      "Fizz\n",
      "4\n",
      "Buzz\n",
      "Fizz\n",
      "7\n",
      "8\n",
      "Fizz\n",
      "Buzz\n",
      "11\n",
      "Fizz\n",
      "13\n",
      "14\n",
      "Fizz\n",
      "16\n",
      "17\n",
      "Fizz\n",
      "19\n",
      "Buzz\n",
      "Fizz\n",
      "22\n",
      "23\n",
      "Fizz\n",
      "Buzz\n",
      "26\n",
      "Fizz\n",
      "28\n",
      "29\n",
      "Fizz\n",
      "31\n",
      "32\n",
      "Fizz\n",
      "34\n",
      "Buzz\n",
      "Fizz\n",
      "37\n",
      "38\n",
      "Fizz\n",
      "Buzz\n",
      "41\n",
      "Fizz\n",
      "43\n",
      "44\n",
      "Fizz\n",
      "46\n",
      "47\n",
      "Fizz\n",
      "49\n"
     ]
    }
   ],
   "source": [
    "for i in range(1,50):\n",
    "    if i%3==0:\n",
    "        print(\"Fizz\")\n",
    "    elif i%5==0:\n",
    "        print(\"Buzz\")\n",
    "    elif i%3==0 and i%5==0:\n",
    "        print(\"FizzBuzz\")\n",
    "    else:\n",
    "        print(i)"
   ]
  },
  {
   "cell_type": "code",
   "execution_count": 32,
   "id": "36bf9416",
   "metadata": {
    "ExecuteTime": {
     "end_time": "2021-12-16T08:37:45.822286Z",
     "start_time": "2021-12-16T08:37:43.339711Z"
    }
   },
   "outputs": [
    {
     "name": "stdout",
     "output_type": "stream",
     "text": [
      "Enter the number : 3\n",
      "Enter the number : 3\n"
     ]
    }
   ],
   "source": [
    "# writre a programe to calclulate the sum and average of n interger numbers\n",
    "\n",
    "a=int(input(\"Enter the number : \"))\n",
    "b=int(input(\"Enter the number : \"))\n",
    "\n",
    "for i in range(a,b):\n",
    "    if a+b:\n",
    "        print(\"Sum is \",i)\n",
    "    elif ((a+b)/2):\n",
    "        print(\"Average is \",i)\n",
    "        "
   ]
  },
  {
   "cell_type": "code",
   "execution_count": 33,
   "id": "2692d91c",
   "metadata": {
    "ExecuteTime": {
     "end_time": "2021-12-16T08:52:49.244467Z",
     "start_time": "2021-12-16T08:52:36.601201Z"
    }
   },
   "outputs": [
    {
     "name": "stdout",
     "output_type": "stream",
     "text": [
      "Input some integers to calculate their sum and average. Input 0 to exit.\n",
      "2\n",
      "2\n",
      "2\n",
      "2\n",
      "2\n",
      "0\n",
      "Average and Sum of the above numbers are:  2.0 10.0\n"
     ]
    }
   ],
   "source": [
    "print(\"Input some integers to calculate their sum and average. Input 0 to exit.\")\n",
    "\n",
    "count = 0\n",
    "sum = 0.0\n",
    "number = 1\n",
    "\n",
    "while number != 0:\n",
    "\tnumber = int(input(\"\"))\n",
    "\tsum = sum + number\n",
    "\tcount += 1\n",
    "\n",
    "if count == 0:\n",
    "\tprint(\"Input some numbers\")\n",
    "else:\n",
    "\tprint(\"Average and Sum of the above numbers are: \", sum / (count-1), sum)\n",
    "\t"
   ]
  },
  {
   "cell_type": "code",
   "execution_count": 35,
   "id": "906fa4e3",
   "metadata": {
    "ExecuteTime": {
     "end_time": "2021-12-16T08:58:33.810710Z",
     "start_time": "2021-12-16T08:58:31.821231Z"
    }
   },
   "outputs": [
    {
     "name": "stdout",
     "output_type": "stream",
     "text": [
      "Enter the number2\n",
      "1 2\n"
     ]
    }
   ],
   "source": [
    "n=int(input(\"Enter the number\"))\n",
    "\n",
    "factors=[facts for facts in range(1,n+1) if n% facts==0]\n",
    "print(*factors)"
   ]
  },
  {
   "cell_type": "code",
   "execution_count": 1,
   "id": "dc498600",
   "metadata": {
    "ExecuteTime": {
     "end_time": "2021-12-17T06:04:27.832682Z",
     "start_time": "2021-12-17T06:04:27.824679Z"
    }
   },
   "outputs": [],
   "source": [
    "# You have given a nested list. Write a program to extend it by adding the sublist [\"h\", \"i\", \"j\"] \n",
    "# in such a way that it will look like the following list.\n",
    "\n",
    "# list1 = [\"a\", \"b\", [\"c\", [\"d\", \"e\", [\"f\", \"g\"], \"k\"], \"l\"], \"m\", \"n\"]\n",
    "# # sub list to add\n",
    "# sub_list = [\"h\", \"i\", \"j\"]\n",
    "\n",
    "# Expected output : ['a', 'b', ['c', ['d', 'e', ['f', 'g', 'h', 'i', 'j'], 'k'], 'l'], 'm', 'n']"
   ]
  },
  {
   "cell_type": "code",
   "execution_count": 12,
   "id": "7f20c4ab",
   "metadata": {
    "ExecuteTime": {
     "end_time": "2021-12-17T06:12:07.515515Z",
     "start_time": "2021-12-17T06:12:07.503514Z"
    }
   },
   "outputs": [
    {
     "data": {
      "text/plain": [
       "['a', 'b', ['c', ['d', 'e', ['f', 'g', ['h', 'i', 'j']], 'k'], 'l'], 'm', 'n']"
      ]
     },
     "execution_count": 12,
     "metadata": {},
     "output_type": "execute_result"
    }
   ],
   "source": [
    "list1 = [\"a\", \"b\", [\"c\", [\"d\", \"e\", [\"f\", \"g\"], \"k\"], \"l\"], \"m\", \"n\"]\n",
    "sub_list = [\"h\", \"i\", \"j\"]\n",
    "\n",
    "list1[2][1][2].append(sub_list)\n",
    "list1"
   ]
  },
  {
   "cell_type": "code",
   "execution_count": 14,
   "id": "3c32da39",
   "metadata": {
    "ExecuteTime": {
     "end_time": "2021-12-17T06:13:56.946202Z",
     "start_time": "2021-12-17T06:13:56.933199Z"
    }
   },
   "outputs": [],
   "source": [
    "# Write a program to add two lists index-wise. Create a new \n",
    "# list that contains the 0th index item from both the list, then the 1st index item, \n",
    "# and so on till the last element. any leftover items will get added at the end of the new list.\n",
    "\n",
    "# Given List : \n",
    "# list1 = [\"M\", \"na\", \"i\", \"Ke\"]\n",
    "# list2 = [\"y\", \"me\", \"s\", \"lly\"]\n",
    "\n",
    "# Expected output:\n",
    "# ['My', 'name', 'is', 'Kelly']"
   ]
  },
  {
   "cell_type": "code",
   "execution_count": 20,
   "id": "797ac728",
   "metadata": {
    "ExecuteTime": {
     "end_time": "2021-12-17T06:19:23.406922Z",
     "start_time": "2021-12-17T06:19:23.391297Z"
    }
   },
   "outputs": [],
   "source": [
    "list1 = [\"M\", \"na\", \"i\", \"Ke\"]\n",
    "list2 = [\"y\", \"me\", \"s\", \"lly\"]\n",
    "list3=[]\n",
    "\n",
    "if len(list1)==len(list2):\n",
    "    for i in range(0,len(list1)):\n",
    "        list3.append(list1[i]+list2[i])"
   ]
  },
  {
   "cell_type": "code",
   "execution_count": 21,
   "id": "52e0c0f3",
   "metadata": {
    "ExecuteTime": {
     "end_time": "2021-12-17T06:19:30.403177Z",
     "start_time": "2021-12-17T06:19:30.389176Z"
    }
   },
   "outputs": [
    {
     "data": {
      "text/plain": [
       "['My', 'name', 'is', 'Kelly']"
      ]
     },
     "execution_count": 21,
     "metadata": {},
     "output_type": "execute_result"
    }
   ],
   "source": [
    "list3"
   ]
  },
  {
   "cell_type": "code",
   "execution_count": 34,
   "id": "aa815cf1",
   "metadata": {
    "ExecuteTime": {
     "end_time": "2021-12-17T08:28:07.093277Z",
     "start_time": "2021-12-17T08:28:07.074271Z"
    }
   },
   "outputs": [
    {
     "name": "stdout",
     "output_type": "stream",
     "text": [
      "[7, 2, 3, 45, 6, 1]\n",
      "[7, 6, 3, 45, 2, 1]\n",
      "[7, 6, 45, 3, 2, 1]\n"
     ]
    }
   ],
   "source": [
    "# Print list in reverse order using a loop\n",
    "\n",
    "a=[1,2,3,45,6,7]\n",
    "\n",
    "for i in range(len(a)//2):\n",
    "    a[i],a[-1-i]=a[-1-i],a[i]  \n",
    "    print(a)"
   ]
  },
  {
   "cell_type": "code",
   "execution_count": 36,
   "id": "c321be16",
   "metadata": {
    "ExecuteTime": {
     "end_time": "2021-12-17T08:31:01.697971Z",
     "start_time": "2021-12-17T08:31:01.679967Z"
    }
   },
   "outputs": [
    {
     "name": "stdout",
     "output_type": "stream",
     "text": [
      "['my', 'name', 'is', 'sandeep']\n"
     ]
    }
   ],
   "source": [
    "b=[\"sandeep\",'is','name','my']\n",
    "\n",
    "for i in range(len(b)//2):\n",
    "    b[i],b[-1-i]=b[-1-i],b[i]\n",
    "print(b)    "
   ]
  },
  {
   "cell_type": "code",
   "execution_count": 38,
   "id": "a54d9ea9",
   "metadata": {
    "ExecuteTime": {
     "end_time": "2021-12-17T08:34:11.631908Z",
     "start_time": "2021-12-17T08:34:11.608906Z"
    }
   },
   "outputs": [
    {
     "name": "stdout",
     "output_type": "stream",
     "text": [
      "[6, 1, 2, 3, 4, 5, 0]\n",
      "['Coming', 'is', 'Sandeep']\n"
     ]
    }
   ],
   "source": [
    "b=[0,1,2,3,4,5,6]\n",
    "c=['Sandeep','is','Coming']\n",
    "\n",
    "for i in range(len(b)& len(c) // 2):\n",
    "    b[i],b[-1-i]=b[-1-i],b[i]\n",
    "    c[i],c[-1-i]=c[-1-i],c[i]\n",
    "print(b)\n",
    "print(c)"
   ]
  },
  {
   "cell_type": "code",
   "execution_count": 45,
   "id": "7dab7dc0",
   "metadata": {
    "ExecuteTime": {
     "end_time": "2021-12-17T08:49:38.072268Z",
     "start_time": "2021-12-17T08:49:38.054266Z"
    }
   },
   "outputs": [
    {
     "name": "stdout",
     "output_type": "stream",
     "text": [
      "40\n",
      "30\n",
      "20\n",
      "10\n"
     ]
    }
   ],
   "source": [
    "# Display numbers from -10 to -1 using for loop\n",
    "list1=[10,20,30,40]\n",
    "new_list=reversed(list1)\n",
    "for items in new_list:\n",
    "     print(items)    "
   ]
  },
  {
   "cell_type": "code",
   "execution_count": 49,
   "id": "aca692dc",
   "metadata": {
    "ExecuteTime": {
     "end_time": "2021-12-17T08:52:45.690782Z",
     "start_time": "2021-12-17T08:52:45.669782Z"
    }
   },
   "outputs": [
    {
     "name": "stdout",
     "output_type": "stream",
     "text": [
      "Done\n",
      "2\n"
     ]
    }
   ],
   "source": [
    "# Use else block to display a message “Done” after successful execution of for loop\n",
    "\n",
    "a=[1,2,3,4]\n",
    "\n",
    "for i in a:\n",
    "    if i%2==0:\n",
    "        print(i)\n",
    "        break\n",
    "    else:\n",
    "        print(\"Done\")"
   ]
  },
  {
   "cell_type": "code",
   "execution_count": 57,
   "id": "fab6aeee",
   "metadata": {
    "ExecuteTime": {
     "end_time": "2021-12-18T03:04:37.158821Z",
     "start_time": "2021-12-18T03:04:36.859181Z"
    }
   },
   "outputs": [
    {
     "name": "stdout",
     "output_type": "stream",
     "text": [
      "1\n"
     ]
    }
   ],
   "source": [
    "A=\"aaabbbccdffgghttyyuui\"\n",
    "output=a3b3c2d1f2g2h1t2y2u2i1\n",
    "y=A.count(A)\n",
    "print(y)"
   ]
  },
  {
   "cell_type": "code",
   "execution_count": 92,
   "id": "ae1e58b7",
   "metadata": {
    "ExecuteTime": {
     "end_time": "2021-12-18T03:50:41.085060Z",
     "start_time": "2021-12-18T03:50:39.719114Z"
    }
   },
   "outputs": [
    {
     "name": "stdout",
     "output_type": "stream",
     "text": [
      "Enter a word  : aaabbbccdffgghttyyuui\n",
      "a3b3c2d1f2g2h1t2y2u2i1"
     ]
    }
   ],
   "source": [
    "A=\"aaabbbccdffgghttyyuui\"\n",
    "output=a3b3c2d1f2g2h1t2y2u2i1\n",
    "\n",
    "from collections import Counter\n",
    "\n",
    "word = input(\"Enter a word  : \")\n",
    "counts=Counter(word)\n",
    "\n",
    "for i in counts:\n",
    "    print(i+str(counts[i]),end=\"\")\n",
    "    "
   ]
  },
  {
   "cell_type": "code",
   "execution_count": 95,
   "id": "ca1f3d84",
   "metadata": {
    "ExecuteTime": {
     "end_time": "2021-12-18T03:55:20.330656Z",
     "start_time": "2021-12-18T03:55:18.287989Z"
    }
   },
   "outputs": [
    {
     "name": "stdout",
     "output_type": "stream",
     "text": [
      "Enter the word : fdggfjuyluilui\n",
      "f2 d1 g2 j1 u3 y1 l2 i2 "
     ]
    }
   ],
   "source": [
    "from collections import Counter\n",
    "\n",
    "word=input(\"Enter the word : \")\n",
    "a=Counter(word)\n",
    "\n",
    "for i in a:\n",
    "    print(i+str(a[i]),end=\" \")"
   ]
  },
  {
   "cell_type": "code",
   "execution_count": 106,
   "id": "02e5b995",
   "metadata": {
    "ExecuteTime": {
     "end_time": "2021-12-18T04:10:17.444697Z",
     "start_time": "2021-12-18T04:10:13.792432Z"
    }
   },
   "outputs": [
    {
     "name": "stdout",
     "output_type": "stream",
     "text": [
      "ENter the Start Number : 2\n",
      "Enter the End Number5\n",
      "Prime Numbers are:  2\n",
      "Prime Numbers are:  3\n",
      "Prime Numbers are:  5\n"
     ]
    }
   ],
   "source": [
    "# Write a program to display all prime numbers within a range\n",
    "start=int(input(\"ENter the Start Number : \"))\n",
    "end=int(input(\"Enter the End Number : \"))\n",
    "for num in range(start,end +1):\n",
    "    if num >1:\n",
    "        for i in range(2,num):\n",
    "            if num % i==0:\n",
    "                break\n",
    "        else:\n",
    "            print(\"Prime Numbers are: \",num)    \n",
    "        \n"
   ]
  },
  {
   "cell_type": "markdown",
   "id": "e7032e50",
   "metadata": {},
   "source": [
    "# Different Comprehensive\n",
    "* List Comprehensive \n",
    "* Set \n",
    "* Tuple\n",
    "* Dictionary\n"
   ]
  },
  {
   "cell_type": "code",
   "execution_count": null,
   "id": "37e316f9",
   "metadata": {},
   "outputs": [],
   "source": [
    "# Use else block to display a message “Done” after successful execution of for loo\n",
    "\n",
    "a=[i if i%2==0 print(\"done\") else ]"
   ]
  }
 ],
 "metadata": {
  "kernelspec": {
   "display_name": "Python 3 (ipykernel)",
   "language": "python",
   "name": "python3"
  },
  "language_info": {
   "codemirror_mode": {
    "name": "ipython",
    "version": 3
   },
   "file_extension": ".py",
   "mimetype": "text/x-python",
   "name": "python",
   "nbconvert_exporter": "python",
   "pygments_lexer": "ipython3",
   "version": "3.9.7"
  },
  "toc": {
   "base_numbering": 1,
   "nav_menu": {},
   "number_sections": true,
   "sideBar": true,
   "skip_h1_title": false,
   "title_cell": "Table of Contents",
   "title_sidebar": "Contents",
   "toc_cell": false,
   "toc_position": {},
   "toc_section_display": true,
   "toc_window_display": false
  },
  "varInspector": {
   "cols": {
    "lenName": 16,
    "lenType": 16,
    "lenVar": 40
   },
   "kernels_config": {
    "python": {
     "delete_cmd_postfix": "",
     "delete_cmd_prefix": "del ",
     "library": "var_list.py",
     "varRefreshCmd": "print(var_dic_list())"
    },
    "r": {
     "delete_cmd_postfix": ") ",
     "delete_cmd_prefix": "rm(",
     "library": "var_list.r",
     "varRefreshCmd": "cat(var_dic_list()) "
    }
   },
   "types_to_exclude": [
    "module",
    "function",
    "builtin_function_or_method",
    "instance",
    "_Feature"
   ],
   "window_display": false
  }
 },
 "nbformat": 4,
 "nbformat_minor": 5
}
